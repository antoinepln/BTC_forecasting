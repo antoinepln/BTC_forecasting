{
 "cells": [
  {
   "cell_type": "code",
   "execution_count": 1,
   "metadata": {},
   "outputs": [],
   "source": [
    "import pywt\n",
    "import pandas as pd \n",
    "import numpy as np\n",
    "import matplotlib.pyplot as plt\n",
    "from tensorflow.keras.layers import Dense , Input , LSTM, Bidirectional, Dropout\n",
    "from tensorflow.keras.models import Model , Sequential\n",
    "from tensorflow.keras import regularizers"
   ]
  },
  {
   "cell_type": "code",
   "execution_count": 2,
   "metadata": {},
   "outputs": [],
   "source": [
    "def wavelet_transform(df):\n",
    "    ca , cb, cc , cd = pywt.wavedec(df['price'].values, 'haar', level = 3)\n",
    "    cat = pywt.threshold(ca, np.std(ca), mode = 'soft')\n",
    "    cbt = pywt.threshold(cb, np.std(cb), mode = 'soft')\n",
    "    cct = pywt.threshold(cc, np.std(cc), mode = 'soft')\n",
    "    cdt = pywt.threshold(cd, np.std(cd), mode = 'soft')\n",
    "    coeff = [cat , cbt, cct , cdt]\n",
    "    return pywt.waverec(coeff, 'haar')\n",
    "\n",
    "def get_sample(df, length, temporal_horizon):\n",
    "\n",
    "    temporal_horizon = temporal_horizon - 1\n",
    "    last_possible = df.shape[0] - temporal_horizon - length\n",
    "\n",
    "    random_start = np.random.randint(0, last_possible)\n",
    "    X_sample = df.drop(columns = 'price')[random_start: random_start+length].values\n",
    "    y_sample = df['price'][random_start+length: random_start+length+temporal_horizon+1]\n",
    "    \n",
    "   # if y_sample != y_sample:\n",
    "        #X_sample, y_sample = get_sample(df, length, temporal_horizon)\n",
    "    \n",
    "    return X_sample, y_sample\n",
    "\n",
    "def get_X_y(df, temporal_horizon, length_of_sequences):\n",
    "    X, y = [], []\n",
    "\n",
    "    for len_ in length_of_sequences:\n",
    "        xi, yi = get_sample(df, len_, temporal_horizon)\n",
    "        X.append(xi)\n",
    "        y.append(yi)\n",
    "        \n",
    "    return X, np.array(y)\n",
    "\n",
    "\n",
    "def autoencoder(features):\n",
    "    input_data = Input(shape=(1, features))\n",
    "    encoded1 = Dense(features, activation=\"relu\", activity_regularizer=regularizers.l2(0))(input_data)\n",
    "    one_l = Dense(1, activation=\"relu\", activity_regularizer=regularizers.l2(0))(encoded1)\n",
    "    decoded = Dense(features, activation=\"linear\", activity_regularizer=regularizers.l2(0))(one_l)\n",
    "    autoencoder = Model(inputs=input_data, outputs=decoded)\n",
    "    encoder = Model(input_data, one_l)\n",
    "    autoencoder.compile(loss = 'mse', optimizer = 'rmsprop',metrics = ['mae'])\n",
    "    return autoencoder , encoder"
   ]
  },
  {
   "cell_type": "markdown",
   "metadata": {},
   "source": [
    "## DATA"
   ]
  },
  {
   "cell_type": "code",
   "execution_count": 3,
   "metadata": {},
   "outputs": [],
   "source": [
    "df  = pd.read_csv('ma_ema.csv')\n",
    "df.set_index('date', inplace = True)\n",
    "df_test = df[2970:3361]\n",
    "df = df[:3000]"
   ]
  },
  {
   "cell_type": "code",
   "execution_count": 4,
   "metadata": {},
   "outputs": [],
   "source": [
    "df['price'] = wavelet_transform(df)\n",
    "df.dropna(inplace = True)"
   ]
  },
  {
   "cell_type": "markdown",
   "metadata": {},
   "source": [
    "## AUTOENCODER"
   ]
  },
  {
   "cell_type": "code",
   "execution_count": 5,
   "metadata": {},
   "outputs": [
    {
     "ename": "NameError",
     "evalue": "name 'encoder' is not defined",
     "output_type": "error",
     "traceback": [
      "\u001b[0;31m---------------------------------------------------------------------------\u001b[0m",
      "\u001b[0;31mNameError\u001b[0m                                 Traceback (most recent call last)",
      "\u001b[0;32m<ipython-input-5-7e1778cb9ba8>\u001b[0m in \u001b[0;36m<module>\u001b[0;34m\u001b[0m\n\u001b[0;32m----> 1\u001b[0;31m \u001b[0mautoencoder\u001b[0m \u001b[0;34m,\u001b[0m \u001b[0mencoder\u001b[0m \u001b[0;34m=\u001b[0m \u001b[0mencoder\u001b[0m\u001b[0;34m(\u001b[0m\u001b[0;36m14\u001b[0m\u001b[0;34m)\u001b[0m\u001b[0;34m\u001b[0m\u001b[0;34m\u001b[0m\u001b[0m\n\u001b[0m",
      "\u001b[0;31mNameError\u001b[0m: name 'encoder' is not defined"
     ]
    }
   ],
   "source": [
    "autoencoder , encoder = encoder(14)"
   ]
  },
  {
   "cell_type": "code",
   "execution_count": null,
   "metadata": {},
   "outputs": [],
   "source": [
    "X = np.array(df)\n",
    "X = X.reshape(len(X), 1, 14)"
   ]
  },
  {
   "cell_type": "code",
   "execution_count": null,
   "metadata": {},
   "outputs": [],
   "source": [
    "from tensorflow.keras.callbacks import EarlyStopping\n",
    "es = EarlyStopping(monitor = 'val_loss',mode = 'min' , verbose = 1, patience = 20, restore_best_weights = True)\n",
    "history = autoencoder.fit(X,X,\n",
    "                    validation_split = 0.3,\n",
    "                   callbacks = [es], \n",
    "                   epochs = 1000, \n",
    "                   batch_size = 64,\n",
    "                   shuffle = True)"
   ]
  },
  {
   "cell_type": "code",
   "execution_count": null,
   "metadata": {},
   "outputs": [],
   "source": [
    "def plot_loss(history):\n",
    "    plt.plot(history.history['loss'])\n",
    "    plt.plot(history.history['val_loss'])\n",
    "    plt.title('Model loss')\n",
    "    plt.ylabel('Mean Square Error - Loss')\n",
    "    plt.xlabel('Epoch')\n",
    "    plt.legend(['Train', 'Validation'], loc='best')\n",
    "    plt.show()\n",
    "    \n",
    "    plt.plot(history.history['mae'])\n",
    "    plt.plot(history.history['val_mae'])\n",
    "    plt.title('Model loss')\n",
    "    plt.ylabel('Mean Absolute Error')\n",
    "    plt.xlabel('Epoch')\n",
    "    plt.legend(['Train', 'Validation'], loc='best')\n",
    "    plt.show()\n",
    "    \n",
    "plot_loss(history)"
   ]
  },
  {
   "cell_type": "code",
   "execution_count": null,
   "metadata": {},
   "outputs": [],
   "source": [
    "X_encode = autoencoder.predict(X)\n",
    "X_encode.shape = (X_encode.shape[0], X_encode.shape[2])\n",
    "new_df = pd.DataFrame(X_encode)\n",
    "df.reset_index(inplace = True)\n",
    "new_df['price'] = df['price']"
   ]
  },
  {
   "cell_type": "code",
   "execution_count": null,
   "metadata": {},
   "outputs": [],
   "source": [
    "n_days = 30\n",
    "length = 30\n",
    "length_of_sequences = [length for x in range(3500)]\n",
    "\n",
    "X_train, y_train = get_X_y(new_df, n_days, length_of_sequences)"
   ]
  },
  {
   "cell_type": "code",
   "execution_count": null,
   "metadata": {},
   "outputs": [],
   "source": [
    "def init_model() :\n",
    "    model = Sequential()               \n",
    "    model.add(LSTM(150,activation = 'tanh',input_shape=(length, 14),return_sequences = True))\n",
    "    model.add(Dropout(0.5))  \n",
    "    model.add(Bidirectional(LSTM(120, activation = 'tanh',return_sequences=True)))\n",
    "    model.add(Dropout(0.5))\n",
    "    model.add(Bidirectional(LSTM(100,activation = 'tanh',return_sequences = True)))\n",
    "    model.add(Dropout(0.5))\n",
    "    model.add(LSTM(80,activation = 'tanh'))\n",
    "    model.add(Dense(60,activation = 'relu'))     \n",
    "    model.add(Dense(n_days,activation = 'linear'))\n",
    "\n",
    "    model.compile(loss = 'mse', optimizer = 'rmsprop',metrics = ['mae'])\n",
    "\n",
    "    return model"
   ]
  },
  {
   "cell_type": "code",
   "execution_count": null,
   "metadata": {},
   "outputs": [],
   "source": [
    "from tensorflow.keras.callbacks import EarlyStopping\n",
    "model = init_model()\n",
    "es = EarlyStopping(monitor = 'val_loss',mode = 'min' , verbose = 1, patience = 20, restore_best_weights = True)\n",
    "history = model.fit(np.array(X_train), y_train,\n",
    "                    validation_split = 0.3,\n",
    "                   callbacks = [es], \n",
    "                   epochs = 1000, \n",
    "                   batch_size = 32)\n",
    "                   #shuffle = True)"
   ]
  },
  {
   "cell_type": "code",
   "execution_count": null,
   "metadata": {},
   "outputs": [],
   "source": [
    "def plot_loss(history):\n",
    "    plt.plot(history.history['loss'])\n",
    "    plt.plot(history.history['val_loss'])\n",
    "    plt.title('Model loss')\n",
    "    plt.ylabel('Mean Square Error - Loss')\n",
    "    plt.xlabel('Epoch')\n",
    "    plt.legend(['Train', 'Validation'], loc='best')\n",
    "    plt.show()\n",
    "    \n",
    "    plt.plot(history.history['mae'])\n",
    "    plt.plot(history.history['val_mae'])\n",
    "    plt.title('Model loss')\n",
    "    plt.ylabel('Mean Absolute Error')\n",
    "    plt.xlabel('Epoch')\n",
    "    plt.legend(['Train', 'Validation'], loc='best')\n",
    "    plt.show()\n",
    "    \n",
    "plot_loss(history)"
   ]
  },
  {
   "cell_type": "markdown",
   "metadata": {},
   "source": [
    "## TEST"
   ]
  },
  {
   "cell_type": "code",
   "execution_count": null,
   "metadata": {},
   "outputs": [],
   "source": [
    "df_test_n = df_test.copy()\n",
    "df_test_n['price'] = wavelet_transform(df_test_n)[:len(df_test_n)]\n",
    "\n",
    "df_test = df_test[length:]\n",
    "\n",
    "prediction = []\n",
    "for x in range(0,12):\n",
    "    n = 30*x \n",
    "    i = 30 + 30*x\n",
    "    encode = autoencoder.predict(df_test_n[n:i])\n",
    "    encode.shape = (1,encode.shape[0], encode.shape[1])\n",
    "    predict = model.predict(encode)\n",
    "    prediction.append(predict)"
   ]
  },
  {
   "cell_type": "code",
   "execution_count": null,
   "metadata": {},
   "outputs": [],
   "source": [
    "prediction = np.array(prediction)\n",
    "prediction.shape = (360)"
   ]
  },
  {
   "cell_type": "code",
   "execution_count": null,
   "metadata": {},
   "outputs": [],
   "source": [
    "plt.figure(figsize = (18, 7))\n",
    "plt.plot(prediction, label = 'prediction')\n",
    "plt.plot(df_test['price'], label = 'truth')\n",
    "plt.legend()"
   ]
  },
  {
   "cell_type": "code",
   "execution_count": null,
   "metadata": {},
   "outputs": [],
   "source": []
  }
 ],
 "metadata": {
  "kernelspec": {
   "display_name": "Python 3",
   "language": "python",
   "name": "python3"
  },
  "language_info": {
   "codemirror_mode": {
    "name": "ipython",
    "version": 3
   },
   "file_extension": ".py",
   "mimetype": "text/x-python",
   "name": "python",
   "nbconvert_exporter": "python",
   "pygments_lexer": "ipython3",
   "version": "3.7.7"
  }
 },
 "nbformat": 4,
 "nbformat_minor": 4
}
