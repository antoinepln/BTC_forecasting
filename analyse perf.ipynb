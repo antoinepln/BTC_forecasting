{
 "cells": [
  {
   "cell_type": "code",
   "execution_count": 1,
   "metadata": {},
   "outputs": [],
   "source": [
    "import pandas as pd"
   ]
  },
  {
   "cell_type": "code",
   "execution_count": 2,
   "metadata": {},
   "outputs": [],
   "source": [
    "df_random = df = pd.read_json(f'perf_summary/baseline/score_random.json')\n",
    "df_random.index = ['acc', 'recall', 'speci', 'profit', 'min', 'max'] \n",
    "df_random.columns = [x for x in range(1,13)]\n",
    "\n",
    "\n",
    "df_hold = df = pd.read_json(f'perf_summary/baseline/score_hold.json')\n",
    "df_hold.index = ['acc', 'profit', 'min', 'max']\n",
    "df_hold.columns = [x for x in range(1,13)]\n",
    "\n",
    "for x in range(1,11) :\n",
    "    if x == 1 : \n",
    "        df = pd.read_json(f'perf_summary/baseline/log_model/log_model_{x}.json')\n",
    "    else :\n",
    "        df = df + pd.read_json(f'perf_summary/baseline/log_model/log_model_{x}.json')\n",
    "df.index = ['acc', 'recall', 'speci', 'profit', 'min', 'max'] \n",
    "df.columns = [x for x in range(1,13)]\n",
    "df_log = df/10"
   ]
  },
  {
   "cell_type": "code",
   "execution_count": 31,
   "metadata": {},
   "outputs": [],
   "source": [
    "for x in range(1,11) :\n",
    "    if x == 1 : \n",
    "        df_10 = pd.read_json(f'perf_summary/lstm_pca/score_{x}.json')\n",
    "    else :\n",
    "        df_10 = df_10 + pd.read_json(f'perf_summary/lstm_pca/score_{x}.json')\n",
    "df_10.index = ['acc', 'recall', 'speci', 'profit', 'min', 'max'] \n",
    "df_10.columns = [x for x in range(1,13)]\n",
    "df_10 = df_10/10\n"
   ]
  },
  {
   "cell_type": "code",
   "execution_count": 93,
   "metadata": {},
   "outputs": [],
   "source": [
    "list_of_length  = [5,10,20,50] \n",
    "acc_sum = {}\n",
    "for t in list_of_length :\n",
    "    acc = []\n",
    "    for x in range(1,11) :\n",
    "        if x == 1 : \n",
    "            df = pd.read_json(f'perf_summary/{t}-7/dnn/2y/score_{x}.json')\n",
    "        else :\n",
    "            df = df + pd.read_json(f'perf_summary/{t}-7/dnn/2y/score_{x}.json')\n",
    "    df.index = ['acc', 'recall', 'speci', 'profit', 'min', 'max'] \n",
    "    df.columns = [x for x in range(1,13)]\n",
    "    df = df/10\n",
    "    acc.append(df.loc['profit'].prod())\n",
    "    for x in range(1,11) :\n",
    "        if x == 1 : \n",
    "            df_3y = pd.read_json(f'perf_summary/{t}-7/dnn/3y/score_{x}.json')\n",
    "        else :\n",
    "            df_3y = df_3y + pd.read_json(f'perf_summary/{t}-7/dnn/3y/score_{x}.json')\n",
    "    df_3y.index = ['acc', 'recall', 'speci', 'profit', 'min', 'max'] \n",
    "    df_3y.columns = [x for x in range(1,13)]\n",
    "    df_3y = df_3y/10\n",
    "    acc.append(df_3y.loc['profit'].prod())\n",
    "    acc_sum[f'{t}-7'] = acc\n",
    "    "
   ]
  },
  {
   "cell_type": "code",
   "execution_count": 58,
   "metadata": {},
   "outputs": [],
   "source": [
    "acc_compare = pd.concat((df_10[3:4],df_5[3:4],df_hold[1:2],df_log[3:4],df_random[3:4]))\n",
    "acc_compare.index = ['10-1-3y','5-1-2y','hold','log' ,'random']"
   ]
  },
  {
   "cell_type": "code",
   "execution_count": 59,
   "metadata": {},
   "outputs": [
    {
     "data": {
      "text/html": [
       "<div>\n",
       "<style scoped>\n",
       "    .dataframe tbody tr th:only-of-type {\n",
       "        vertical-align: middle;\n",
       "    }\n",
       "\n",
       "    .dataframe tbody tr th {\n",
       "        vertical-align: top;\n",
       "    }\n",
       "\n",
       "    .dataframe thead th {\n",
       "        text-align: right;\n",
       "    }\n",
       "</style>\n",
       "<table border=\"1\" class=\"dataframe\">\n",
       "  <thead>\n",
       "    <tr style=\"text-align: right;\">\n",
       "      <th></th>\n",
       "      <th>1</th>\n",
       "      <th>2</th>\n",
       "      <th>3</th>\n",
       "      <th>4</th>\n",
       "      <th>5</th>\n",
       "      <th>6</th>\n",
       "      <th>7</th>\n",
       "      <th>8</th>\n",
       "      <th>9</th>\n",
       "      <th>10</th>\n",
       "      <th>11</th>\n",
       "      <th>12</th>\n",
       "    </tr>\n",
       "  </thead>\n",
       "  <tbody>\n",
       "    <tr>\n",
       "      <th>10-1-3y</th>\n",
       "      <td>1.512896</td>\n",
       "      <td>1.269653</td>\n",
       "      <td>0.891495</td>\n",
       "      <td>1.037902</td>\n",
       "      <td>0.704843</td>\n",
       "      <td>1.312595</td>\n",
       "      <td>1.601474</td>\n",
       "      <td>0.951217</td>\n",
       "      <td>0.962430</td>\n",
       "      <td>0.937656</td>\n",
       "      <td>1.131194</td>\n",
       "      <td>1.190627</td>\n",
       "    </tr>\n",
       "    <tr>\n",
       "      <th>5-1-2y</th>\n",
       "      <td>1.098903</td>\n",
       "      <td>1.313376</td>\n",
       "      <td>0.931653</td>\n",
       "      <td>0.938979</td>\n",
       "      <td>0.706749</td>\n",
       "      <td>1.507895</td>\n",
       "      <td>1.733310</td>\n",
       "      <td>0.923335</td>\n",
       "      <td>0.989595</td>\n",
       "      <td>1.021815</td>\n",
       "      <td>1.196580</td>\n",
       "      <td>1.105962</td>\n",
       "    </tr>\n",
       "    <tr>\n",
       "      <th>hold</th>\n",
       "      <td>1.081140</td>\n",
       "      <td>1.236843</td>\n",
       "      <td>0.763699</td>\n",
       "      <td>0.915120</td>\n",
       "      <td>0.547143</td>\n",
       "      <td>1.560999</td>\n",
       "      <td>1.748461</td>\n",
       "      <td>0.906718</td>\n",
       "      <td>0.967497</td>\n",
       "      <td>0.820688</td>\n",
       "      <td>1.241497</td>\n",
       "      <td>1.305065</td>\n",
       "    </tr>\n",
       "    <tr>\n",
       "      <th>log</th>\n",
       "      <td>1.008114</td>\n",
       "      <td>1.000000</td>\n",
       "      <td>0.991121</td>\n",
       "      <td>0.991512</td>\n",
       "      <td>0.954714</td>\n",
       "      <td>1.065308</td>\n",
       "      <td>1.101937</td>\n",
       "      <td>0.988371</td>\n",
       "      <td>0.998626</td>\n",
       "      <td>0.993096</td>\n",
       "      <td>1.045498</td>\n",
       "      <td>1.305065</td>\n",
       "    </tr>\n",
       "    <tr>\n",
       "      <th>random</th>\n",
       "      <td>0.968324</td>\n",
       "      <td>1.242505</td>\n",
       "      <td>0.890244</td>\n",
       "      <td>0.986584</td>\n",
       "      <td>0.629970</td>\n",
       "      <td>1.327037</td>\n",
       "      <td>1.314429</td>\n",
       "      <td>0.993054</td>\n",
       "      <td>1.038193</td>\n",
       "      <td>0.894413</td>\n",
       "      <td>1.185541</td>\n",
       "      <td>1.142558</td>\n",
       "    </tr>\n",
       "  </tbody>\n",
       "</table>\n",
       "</div>"
      ],
      "text/plain": [
       "               1         2         3         4         5         6         7   \\\n",
       "10-1-3y  1.512896  1.269653  0.891495  1.037902  0.704843  1.312595  1.601474   \n",
       "5-1-2y   1.098903  1.313376  0.931653  0.938979  0.706749  1.507895  1.733310   \n",
       "hold     1.081140  1.236843  0.763699  0.915120  0.547143  1.560999  1.748461   \n",
       "log      1.008114  1.000000  0.991121  0.991512  0.954714  1.065308  1.101937   \n",
       "random   0.968324  1.242505  0.890244  0.986584  0.629970  1.327037  1.314429   \n",
       "\n",
       "               8         9         10        11        12  \n",
       "10-1-3y  0.951217  0.962430  0.937656  1.131194  1.190627  \n",
       "5-1-2y   0.923335  0.989595  1.021815  1.196580  1.105962  \n",
       "hold     0.906718  0.967497  0.820688  1.241497  1.305065  \n",
       "log      0.988371  0.998626  0.993096  1.045498  1.305065  \n",
       "random   0.993054  1.038193  0.894413  1.185541  1.142558  "
      ]
     },
     "execution_count": 59,
     "metadata": {},
     "output_type": "execute_result"
    }
   ],
   "source": [
    "acc_compare"
   ]
  },
  {
   "cell_type": "code",
   "execution_count": 67,
   "metadata": {},
   "outputs": [],
   "source": [
    "tot_profit = {'random' : df_random.loc['profit'].prod(),\n",
    "      'hold': df_hold.loc['profit'].prod(),\n",
    "      'log' : df_log.loc['profit'].prod()}"
   ]
  },
  {
   "cell_type": "code",
   "execution_count": 66,
   "metadata": {},
   "outputs": [],
   "source": [
    "tot_accuracy = {'random' : df_random.loc['acc'].mean(),\n",
    "      'hold': df_hold.loc['acc'].mean(),\n",
    "      'log' : df_log.loc['acc'].mean()}"
   ]
  },
  {
   "cell_type": "code",
   "execution_count": 76,
   "metadata": {},
   "outputs": [],
   "source": [
    "tot_recall = {'random' : df_random.loc['speci'].mean(),\n",
    "      'hold': 0,\n",
    "      'log' : df_log.loc['speci'].mean()}"
   ]
  },
  {
   "cell_type": "code",
   "execution_count": 68,
   "metadata": {},
   "outputs": [
    {
     "data": {
      "text/html": [
       "<div>\n",
       "<style scoped>\n",
       "    .dataframe tbody tr th:only-of-type {\n",
       "        vertical-align: middle;\n",
       "    }\n",
       "\n",
       "    .dataframe tbody tr th {\n",
       "        vertical-align: top;\n",
       "    }\n",
       "\n",
       "    .dataframe thead th {\n",
       "        text-align: right;\n",
       "    }\n",
       "</style>\n",
       "<table border=\"1\" class=\"dataframe\">\n",
       "  <thead>\n",
       "    <tr style=\"text-align: right;\">\n",
       "      <th></th>\n",
       "      <th>0</th>\n",
       "    </tr>\n",
       "  </thead>\n",
       "  <tbody>\n",
       "    <tr>\n",
       "      <th>random</th>\n",
       "      <td>1.450395</td>\n",
       "    </tr>\n",
       "    <tr>\n",
       "      <th>hold</th>\n",
       "      <td>1.627925</td>\n",
       "    </tr>\n",
       "    <tr>\n",
       "      <th>log</th>\n",
       "      <td>1.484942</td>\n",
       "    </tr>\n",
       "  </tbody>\n",
       "</table>\n",
       "</div>"
      ],
      "text/plain": [
       "               0\n",
       "random  1.450395\n",
       "hold    1.627925\n",
       "log     1.484942"
      ]
     },
     "execution_count": 68,
     "metadata": {},
     "output_type": "execute_result"
    }
   ],
   "source": [
    "pd.DataFrame.from_dict(tot_profit, orient = 'index')"
   ]
  },
  {
   "cell_type": "code",
   "execution_count": 77,
   "metadata": {},
   "outputs": [
    {
     "data": {
      "text/html": [
       "<div>\n",
       "<style scoped>\n",
       "    .dataframe tbody tr th:only-of-type {\n",
       "        vertical-align: middle;\n",
       "    }\n",
       "\n",
       "    .dataframe tbody tr th {\n",
       "        vertical-align: top;\n",
       "    }\n",
       "\n",
       "    .dataframe thead th {\n",
       "        text-align: right;\n",
       "    }\n",
       "</style>\n",
       "<table border=\"1\" class=\"dataframe\">\n",
       "  <thead>\n",
       "    <tr style=\"text-align: right;\">\n",
       "      <th></th>\n",
       "      <th>0</th>\n",
       "    </tr>\n",
       "  </thead>\n",
       "  <tbody>\n",
       "    <tr>\n",
       "      <th>random</th>\n",
       "      <td>0.502656</td>\n",
       "    </tr>\n",
       "    <tr>\n",
       "      <th>hold</th>\n",
       "      <td>0.000000</td>\n",
       "    </tr>\n",
       "    <tr>\n",
       "      <th>log</th>\n",
       "      <td>0.343518</td>\n",
       "    </tr>\n",
       "  </tbody>\n",
       "</table>\n",
       "</div>"
      ],
      "text/plain": [
       "               0\n",
       "random  0.502656\n",
       "hold    0.000000\n",
       "log     0.343518"
      ]
     },
     "execution_count": 77,
     "metadata": {},
     "output_type": "execute_result"
    }
   ],
   "source": [
    "pd.DataFrame.from_dict(tot_recall, orient = 'index')"
   ]
  },
  {
   "cell_type": "code",
   "execution_count": 251,
   "metadata": {},
   "outputs": [],
   "source": [
    "d = pd.concat((lstm_10_1_3y[3:4],lstm_10_1_2y[3:4]))\n",
    "d.index = ['3y','2y']"
   ]
  },
  {
   "cell_type": "code",
   "execution_count": 253,
   "metadata": {},
   "outputs": [
    {
     "data": {
      "text/plain": [
       "0.8581509362688928"
      ]
     },
     "execution_count": 253,
     "metadata": {},
     "output_type": "execute_result"
    }
   ],
   "source": [
    "d.loc['3y'].prod()"
   ]
  },
  {
   "cell_type": "code",
   "execution_count": 92,
   "metadata": {},
   "outputs": [],
   "source": [
    "tot_return_1 = {'5-7' : [2.001789,1.814501],\n",
    "'10-7' : [1.327112,2.339352],\n",
    "'20-7' : [1.640620,2.232261],\n",
    "'50-7' : [2.170431,2.370830]}"
   ]
  },
  {
   "cell_type": "code",
   "execution_count": 49,
   "metadata": {},
   "outputs": [
    {
     "data": {
      "text/html": [
       "<div>\n",
       "<style scoped>\n",
       "    .dataframe tbody tr th:only-of-type {\n",
       "        vertical-align: middle;\n",
       "    }\n",
       "\n",
       "    .dataframe tbody tr th {\n",
       "        vertical-align: top;\n",
       "    }\n",
       "\n",
       "    .dataframe thead th {\n",
       "        text-align: right;\n",
       "    }\n",
       "</style>\n",
       "<table border=\"1\" class=\"dataframe\">\n",
       "  <thead>\n",
       "    <tr style=\"text-align: right;\">\n",
       "      <th></th>\n",
       "      <th>5-1</th>\n",
       "      <th>10-1</th>\n",
       "      <th>20-1</th>\n",
       "      <th>50-1</th>\n",
       "    </tr>\n",
       "  </thead>\n",
       "  <tbody>\n",
       "    <tr>\n",
       "      <th>3y</th>\n",
       "      <td>2.001789</td>\n",
       "      <td>1.327112</td>\n",
       "      <td>1.640620</td>\n",
       "      <td>2.170431</td>\n",
       "    </tr>\n",
       "    <tr>\n",
       "      <th>2y</th>\n",
       "      <td>1.814501</td>\n",
       "      <td>2.339352</td>\n",
       "      <td>2.232261</td>\n",
       "      <td>2.370830</td>\n",
       "    </tr>\n",
       "  </tbody>\n",
       "</table>\n",
       "</div>"
      ],
      "text/plain": [
       "         5-1      10-1      20-1      50-1\n",
       "3y  2.001789  1.327112  1.640620  2.170431\n",
       "2y  1.814501  2.339352  2.232261  2.370830"
      ]
     },
     "execution_count": 49,
     "metadata": {},
     "output_type": "execute_result"
    }
   ],
   "source": [
    "pd.DataFrame(tot_return_1, index = ['2y','3y'])"
   ]
  },
  {
   "cell_type": "code",
   "execution_count": 94,
   "metadata": {},
   "outputs": [
    {
     "data": {
      "text/html": [
       "<div>\n",
       "<style scoped>\n",
       "    .dataframe tbody tr th:only-of-type {\n",
       "        vertical-align: middle;\n",
       "    }\n",
       "\n",
       "    .dataframe tbody tr th {\n",
       "        vertical-align: top;\n",
       "    }\n",
       "\n",
       "    .dataframe thead th {\n",
       "        text-align: right;\n",
       "    }\n",
       "</style>\n",
       "<table border=\"1\" class=\"dataframe\">\n",
       "  <thead>\n",
       "    <tr style=\"text-align: right;\">\n",
       "      <th></th>\n",
       "      <th>5-7</th>\n",
       "      <th>10-7</th>\n",
       "      <th>20-7</th>\n",
       "      <th>50-7</th>\n",
       "    </tr>\n",
       "  </thead>\n",
       "  <tbody>\n",
       "    <tr>\n",
       "      <th>2y</th>\n",
       "      <td>1.327391</td>\n",
       "      <td>1.387040</td>\n",
       "      <td>1.797394</td>\n",
       "      <td>0.770746</td>\n",
       "    </tr>\n",
       "    <tr>\n",
       "      <th>3y</th>\n",
       "      <td>2.081839</td>\n",
       "      <td>1.508233</td>\n",
       "      <td>1.815223</td>\n",
       "      <td>0.674316</td>\n",
       "    </tr>\n",
       "  </tbody>\n",
       "</table>\n",
       "</div>"
      ],
      "text/plain": [
       "         5-7      10-7      20-7      50-7\n",
       "2y  1.327391  1.387040  1.797394  0.770746\n",
       "3y  2.081839  1.508233  1.815223  0.674316"
      ]
     },
     "execution_count": 94,
     "metadata": {},
     "output_type": "execute_result"
    }
   ],
   "source": [
    "pd.DataFrame(acc_sum, index = ['2y','3y'])"
   ]
  },
  {
   "cell_type": "code",
   "execution_count": 11,
   "metadata": {},
   "outputs": [],
   "source": [
    "list_of_length  = [5,10,20,50] \n",
    "list_of_model = ['lstm','dnn']\n",
    "list_of_horizon = [1,7]\n",
    "return_period = {1:0,2:0,3:0,4:0,5:0, 6:0, 7:0, 8:0,9:0,10:0,11:0,12:0}\n",
    "best_model = {}\n",
    "for h in list_of_horizon :\n",
    "    for m in list_of_model :\n",
    "        for t in list_of_length :\n",
    "            acc = []\n",
    "            for x in range(1,11) :\n",
    "                if x == 1 : \n",
    "                    df = pd.read_json(f'perf_summary/{t}-{h}/{m}/2y/score_{x}.json')\n",
    "                else :\n",
    "                    df = df + pd.read_json(f'perf_summary/{t}-{h}/{m}/2y/score_{x}.json')\n",
    "            df.index = ['acc', 'recall', 'speci', 'profit', 'min', 'max'] \n",
    "            df.columns = [x for x in range(1,13)]\n",
    "            df = df/10\n",
    "            for w in range(1,13) :\n",
    "                if df[w].loc['profit'] > return_period[w] : \n",
    "                    return_period[w] =  df[w].loc['profit']\n",
    "                    best_model[w] = f'{m}-{t}-{h}-2y'\n",
    "            for x in range(1,11) :\n",
    "                if x == 1 : \n",
    "                    df_3y = pd.read_json(f'perf_summary/{t}-{h}/{m}/3y/score_{x}.json')\n",
    "                else :\n",
    "                    df_3y = df_3y + pd.read_json(f'perf_summary/{t}-{h}/{m}/3y/score_{x}.json')\n",
    "            df_3y.index = ['acc', 'recall', 'speci', 'profit', 'min', 'max'] \n",
    "            df_3y.columns = [x for x in range(1,13)]\n",
    "            df_3y = df_3y/10\n",
    "            for w in range(1,13) :\n",
    "                if df_3y[w].loc['profit'] > return_period[w] : \n",
    "                    return_period[w] =  df_3y[w].loc['profit']\n",
    "                    best_model[w] = f'{m}-{t}-{h}-3y'\n",
    "    "
   ]
  },
  {
   "cell_type": "code",
   "execution_count": 18,
   "metadata": {},
   "outputs": [],
   "source": [
    "best = pd.DataFrame.from_dict(return_period, orient = 'index')"
   ]
  },
  {
   "cell_type": "code",
   "execution_count": 71,
   "metadata": {},
   "outputs": [],
   "source": [
    "best['hold'] = df_hold.loc['profit']"
   ]
  },
  {
   "cell_type": "code",
   "execution_count": 73,
   "metadata": {},
   "outputs": [],
   "source": [
    "best.columns = ['best','hold']"
   ]
  },
  {
   "cell_type": "code",
   "execution_count": 75,
   "metadata": {},
   "outputs": [
    {
     "data": {
      "text/plain": [
       "15.008122573962801"
      ]
     },
     "execution_count": 75,
     "metadata": {},
     "output_type": "execute_result"
    }
   ],
   "source": [
    "best['best'].prod()"
   ]
  },
  {
   "cell_type": "code",
   "execution_count": 67,
   "metadata": {},
   "outputs": [
    {
     "data": {
      "text/html": [
       "<div>\n",
       "<style scoped>\n",
       "    .dataframe tbody tr th:only-of-type {\n",
       "        vertical-align: middle;\n",
       "    }\n",
       "\n",
       "    .dataframe tbody tr th {\n",
       "        vertical-align: top;\n",
       "    }\n",
       "\n",
       "    .dataframe thead th {\n",
       "        text-align: right;\n",
       "    }\n",
       "</style>\n",
       "<table border=\"1\" class=\"dataframe\">\n",
       "  <thead>\n",
       "    <tr style=\"text-align: right;\">\n",
       "      <th></th>\n",
       "      <th>0</th>\n",
       "    </tr>\n",
       "  </thead>\n",
       "  <tbody>\n",
       "    <tr>\n",
       "      <th>1</th>\n",
       "      <td>dnn-5-7-3y</td>\n",
       "    </tr>\n",
       "    <tr>\n",
       "      <th>2</th>\n",
       "      <td>lstm-5-1-2y</td>\n",
       "    </tr>\n",
       "    <tr>\n",
       "      <th>3</th>\n",
       "      <td>lstm-20-1-2y</td>\n",
       "    </tr>\n",
       "    <tr>\n",
       "      <th>4</th>\n",
       "      <td>lstm-5-1-3y</td>\n",
       "    </tr>\n",
       "    <tr>\n",
       "      <th>5</th>\n",
       "      <td>lstm-50-7-2y</td>\n",
       "    </tr>\n",
       "    <tr>\n",
       "      <th>6</th>\n",
       "      <td>lstm-5-1-2y</td>\n",
       "    </tr>\n",
       "    <tr>\n",
       "      <th>7</th>\n",
       "      <td>dnn-5-1-3y</td>\n",
       "    </tr>\n",
       "    <tr>\n",
       "      <th>8</th>\n",
       "      <td>dnn-20-1-2y</td>\n",
       "    </tr>\n",
       "    <tr>\n",
       "      <th>9</th>\n",
       "      <td>dnn-50-7-2y</td>\n",
       "    </tr>\n",
       "    <tr>\n",
       "      <th>10</th>\n",
       "      <td>dnn-50-1-3y</td>\n",
       "    </tr>\n",
       "    <tr>\n",
       "      <th>11</th>\n",
       "      <td>dnn-10-1-2y</td>\n",
       "    </tr>\n",
       "    <tr>\n",
       "      <th>12</th>\n",
       "      <td>dnn-20-1-3y</td>\n",
       "    </tr>\n",
       "  </tbody>\n",
       "</table>\n",
       "</div>"
      ],
      "text/plain": [
       "               0\n",
       "1     dnn-5-7-3y\n",
       "2    lstm-5-1-2y\n",
       "3   lstm-20-1-2y\n",
       "4    lstm-5-1-3y\n",
       "5   lstm-50-7-2y\n",
       "6    lstm-5-1-2y\n",
       "7     dnn-5-1-3y\n",
       "8    dnn-20-1-2y\n",
       "9    dnn-50-7-2y\n",
       "10   dnn-50-1-3y\n",
       "11   dnn-10-1-2y\n",
       "12   dnn-20-1-3y"
      ]
     },
     "execution_count": 67,
     "metadata": {},
     "output_type": "execute_result"
    }
   ],
   "source": [
    "pd.DataFrame.from_dict(best_model,orient = 'index')"
   ]
  },
  {
   "cell_type": "code",
   "execution_count": 70,
   "metadata": {},
   "outputs": [
    {
     "data": {
      "text/plain": [
       "1     1.081140\n",
       "2     1.236843\n",
       "3     0.763699\n",
       "4     0.915120\n",
       "5     0.547143\n",
       "6     1.560999\n",
       "7     1.748461\n",
       "8     0.906718\n",
       "9     0.967497\n",
       "10    0.820688\n",
       "11    1.241497\n",
       "12    1.305065\n",
       "Name: profit, dtype: float64"
      ]
     },
     "execution_count": 70,
     "metadata": {},
     "output_type": "execute_result"
    }
   ],
   "source": [
    "df_hold.loc['profit']"
   ]
  },
  {
   "cell_type": "code",
   "execution_count": 97,
   "metadata": {},
   "outputs": [],
   "source": [
    "for x in range(1,11) :\n",
    "    if x == 1 : \n",
    "        df = pd.read_json(f'perf_summary/autoencoder/score_{x}.json')\n",
    "    else :\n",
    "        df = df + pd.read_json(f'perf_summary/autoencoder/score_{x}.json')\n",
    "df.index = ['acc', 'recall', 'speci', 'profit', 'min', 'max'] \n",
    "df.columns = [x for x in range(1,13)]\n",
    "df_log = df/10"
   ]
  },
  {
   "cell_type": "code",
   "execution_count": 100,
   "metadata": {},
   "outputs": [
    {
     "data": {
      "text/plain": [
       "2.028145807248776"
      ]
     },
     "execution_count": 100,
     "metadata": {},
     "output_type": "execute_result"
    }
   ],
   "source": [
    "df_log.loc['profit'].prod()"
   ]
  },
  {
   "cell_type": "code",
   "execution_count": 29,
   "metadata": {},
   "outputs": [
    {
     "data": {
      "text/html": [
       "<div>\n",
       "<style scoped>\n",
       "    .dataframe tbody tr th:only-of-type {\n",
       "        vertical-align: middle;\n",
       "    }\n",
       "\n",
       "    .dataframe tbody tr th {\n",
       "        vertical-align: top;\n",
       "    }\n",
       "\n",
       "    .dataframe thead th {\n",
       "        text-align: right;\n",
       "    }\n",
       "</style>\n",
       "<table border=\"1\" class=\"dataframe\">\n",
       "  <thead>\n",
       "    <tr style=\"text-align: right;\">\n",
       "      <th></th>\n",
       "      <th>1</th>\n",
       "      <th>2</th>\n",
       "      <th>3</th>\n",
       "      <th>4</th>\n",
       "      <th>5</th>\n",
       "      <th>6</th>\n",
       "      <th>7</th>\n",
       "      <th>8</th>\n",
       "      <th>9</th>\n",
       "      <th>10</th>\n",
       "      <th>11</th>\n",
       "      <th>12</th>\n",
       "    </tr>\n",
       "  </thead>\n",
       "  <tbody>\n",
       "    <tr>\n",
       "      <th>acc</th>\n",
       "      <td>0.501111</td>\n",
       "      <td>0.464444</td>\n",
       "      <td>0.483333</td>\n",
       "      <td>0.502222</td>\n",
       "      <td>0.484444</td>\n",
       "      <td>0.591111</td>\n",
       "      <td>0.575556</td>\n",
       "      <td>0.477778</td>\n",
       "      <td>0.484444</td>\n",
       "      <td>0.492222</td>\n",
       "      <td>0.528889</td>\n",
       "      <td>0.538889</td>\n",
       "    </tr>\n",
       "    <tr>\n",
       "      <th>recall</th>\n",
       "      <td>0.704167</td>\n",
       "      <td>0.210417</td>\n",
       "      <td>0.704255</td>\n",
       "      <td>0.895556</td>\n",
       "      <td>0.569048</td>\n",
       "      <td>0.850877</td>\n",
       "      <td>0.948077</td>\n",
       "      <td>0.632500</td>\n",
       "      <td>0.634146</td>\n",
       "      <td>0.662500</td>\n",
       "      <td>0.753191</td>\n",
       "      <td>0.603636</td>\n",
       "    </tr>\n",
       "    <tr>\n",
       "      <th>speci</th>\n",
       "      <td>0.269048</td>\n",
       "      <td>0.754762</td>\n",
       "      <td>0.241860</td>\n",
       "      <td>0.108889</td>\n",
       "      <td>0.410417</td>\n",
       "      <td>0.142424</td>\n",
       "      <td>0.065789</td>\n",
       "      <td>0.354000</td>\n",
       "      <td>0.359184</td>\n",
       "      <td>0.356000</td>\n",
       "      <td>0.283721</td>\n",
       "      <td>0.437143</td>\n",
       "    </tr>\n",
       "    <tr>\n",
       "      <th>profit</th>\n",
       "      <td>1.046113</td>\n",
       "      <td>0.937877</td>\n",
       "      <td>0.805143</td>\n",
       "      <td>0.931355</td>\n",
       "      <td>0.723044</td>\n",
       "      <td>1.463833</td>\n",
       "      <td>1.703868</td>\n",
       "      <td>0.854748</td>\n",
       "      <td>0.975105</td>\n",
       "      <td>0.820320</td>\n",
       "      <td>1.225317</td>\n",
       "      <td>1.179536</td>\n",
       "    </tr>\n",
       "    <tr>\n",
       "      <th>min</th>\n",
       "      <td>0.849102</td>\n",
       "      <td>0.925133</td>\n",
       "      <td>0.909173</td>\n",
       "      <td>0.926885</td>\n",
       "      <td>0.893269</td>\n",
       "      <td>0.929377</td>\n",
       "      <td>0.858895</td>\n",
       "      <td>0.889567</td>\n",
       "      <td>0.951663</td>\n",
       "      <td>0.684137</td>\n",
       "      <td>0.925297</td>\n",
       "      <td>0.913194</td>\n",
       "    </tr>\n",
       "    <tr>\n",
       "      <th>max</th>\n",
       "      <td>1.185470</td>\n",
       "      <td>1.066662</td>\n",
       "      <td>1.086279</td>\n",
       "      <td>1.048932</td>\n",
       "      <td>1.088586</td>\n",
       "      <td>1.165551</td>\n",
       "      <td>1.130579</td>\n",
       "      <td>1.105419</td>\n",
       "      <td>1.083672</td>\n",
       "      <td>1.154938</td>\n",
       "      <td>1.122436</td>\n",
       "      <td>1.112765</td>\n",
       "    </tr>\n",
       "  </tbody>\n",
       "</table>\n",
       "</div>"
      ],
      "text/plain": [
       "              1         2         3         4         5         6         7   \\\n",
       "acc     0.501111  0.464444  0.483333  0.502222  0.484444  0.591111  0.575556   \n",
       "recall  0.704167  0.210417  0.704255  0.895556  0.569048  0.850877  0.948077   \n",
       "speci   0.269048  0.754762  0.241860  0.108889  0.410417  0.142424  0.065789   \n",
       "profit  1.046113  0.937877  0.805143  0.931355  0.723044  1.463833  1.703868   \n",
       "min     0.849102  0.925133  0.909173  0.926885  0.893269  0.929377  0.858895   \n",
       "max     1.185470  1.066662  1.086279  1.048932  1.088586  1.165551  1.130579   \n",
       "\n",
       "              8         9         10        11        12  \n",
       "acc     0.477778  0.484444  0.492222  0.528889  0.538889  \n",
       "recall  0.632500  0.634146  0.662500  0.753191  0.603636  \n",
       "speci   0.354000  0.359184  0.356000  0.283721  0.437143  \n",
       "profit  0.854748  0.975105  0.820320  1.225317  1.179536  \n",
       "min     0.889567  0.951663  0.684137  0.925297  0.913194  \n",
       "max     1.105419  1.083672  1.154938  1.122436  1.112765  "
      ]
     },
     "execution_count": 29,
     "metadata": {},
     "output_type": "execute_result"
    }
   ],
   "source": [
    "df_10"
   ]
  },
  {
   "cell_type": "code",
   "execution_count": 32,
   "metadata": {},
   "outputs": [
    {
     "data": {
      "text/plain": [
       "1.6651624315017104"
      ]
     },
     "execution_count": 32,
     "metadata": {},
     "output_type": "execute_result"
    }
   ],
   "source": [
    "df_10.loc['profit'].prod()"
   ]
  },
  {
   "cell_type": "code",
   "execution_count": 9,
   "metadata": {},
   "outputs": [
    {
     "data": {
      "text/plain": [
       "3.0445079095270513"
      ]
     },
     "execution_count": 9,
     "metadata": {},
     "output_type": "execute_result"
    }
   ],
   "source": [
    "df_10.loc['profit'].prod()"
   ]
  },
  {
   "cell_type": "code",
   "execution_count": null,
   "metadata": {},
   "outputs": [],
   "source": []
  }
 ],
 "metadata": {
  "kernelspec": {
   "display_name": "Python 3",
   "language": "python",
   "name": "python3"
  },
  "language_info": {
   "codemirror_mode": {
    "name": "ipython",
    "version": 3
   },
   "file_extension": ".py",
   "mimetype": "text/x-python",
   "name": "python",
   "nbconvert_exporter": "python",
   "pygments_lexer": "ipython3",
   "version": "3.7.7"
  }
 },
 "nbformat": 4,
 "nbformat_minor": 4
}
