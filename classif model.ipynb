{
 "cells": [
  {
   "cell_type": "code",
   "execution_count": 1,
   "metadata": {},
   "outputs": [],
   "source": [
    "import pandas as pd\n",
    "from utility_function import get_X_y , init_model, plot_loss\n",
    "from tensorflow.keras.callbacks import EarlyStopping\n",
    "import numpy as np\n",
    "import matplotlib.pyplot as plt\n",
    "from sklearn.preprocessing import MinMaxScaler\n",
    "from sklearn.metrics import accuracy_score\n",
    "from tensorflow.keras.layers import Dense , Input , LSTM, Bidirectional, Dropout\n",
    "from tensorflow.keras.models import Model , Sequential\n",
    "from tensorflow.keras import regularizers\n",
    "from sklearn.metrics import recall_score\n",
    "from sklearn.metrics import confusion_matrix"
   ]
  },
  {
   "cell_type": "code",
   "execution_count": 2,
   "metadata": {},
   "outputs": [],
   "source": [
    "def init_model(length, n_days, features, style) :\n",
    "    model = Sequential()\n",
    "    model.add(LSTM(18,activation = 'tanh',input_shape=(length, features),return_sequences = True))\n",
    "    model.add(Bidirectional(LSTM(8, activation = 'tanh')))\n",
    "    #model.add(Bidirectional(LSTM(100,activation = 'tanh',return_sequences = True)))\n",
    "    #model.add(LSTM(80,activation = 'tanh'))\n",
    "    #model.add(Dense(60,activation = 'relu'))\n",
    "\n",
    "    if style == 'linear' :\n",
    "        model.add(Dense(n_days,activation = 'linear'))\n",
    "\n",
    "        model.compile(loss = 'mse', optimizer = 'rmsprop',metrics = ['mae'])\n",
    "    if style == 'clf':\n",
    "        model.add(Dense(1,activation = 'sigmoid'))\n",
    "\n",
    "        model.compile(loss='binary_crossentropy', optimizer='adam', metrics=['accuracy'])\n",
    "\n",
    "    return model"
   ]
  },
  {
   "cell_type": "code",
   "execution_count": 3,
   "metadata": {},
   "outputs": [],
   "source": [
    "n_days = 1\n",
    "length = 5\n",
    "df  = pd.read_csv('data_2.csv').set_index('date').dropna()\n",
    "n = 1880\n",
    "s = 2610\n",
    "df_test = df.iloc[s-length+90*8:s+90+90*8]\n",
    "df_ = df.iloc[n+90*8:s+90*8]\n",
    "    "
   ]
  },
  {
   "cell_type": "code",
   "execution_count": 4,
   "metadata": {},
   "outputs": [
    {
     "data": {
      "text/plain": [
       "730"
      ]
     },
     "execution_count": 4,
     "metadata": {},
     "output_type": "execute_result"
    }
   ],
   "source": [
    "len(df_)"
   ]
  },
  {
   "cell_type": "code",
   "execution_count": 5,
   "metadata": {},
   "outputs": [
    {
     "name": "stderr",
     "output_type": "stream",
     "text": [
      "/Users/antoine/.pyenv/versions/3.7.7/envs/lewagon/lib/python3.7/site-packages/ipykernel_launcher.py:3: SettingWithCopyWarning: \n",
      "A value is trying to be set on a copy of a slice from a DataFrame.\n",
      "Try using .loc[row_indexer,col_indexer] = value instead\n",
      "\n",
      "See the caveats in the documentation: https://pandas.pydata.org/pandas-docs/stable/user_guide/indexing.html#returning-a-view-versus-a-copy\n",
      "  This is separate from the ipykernel package so we can avoid doing imports until\n",
      "/Users/antoine/.pyenv/versions/3.7.7/envs/lewagon/lib/python3.7/site-packages/pandas/core/indexing.py:1736: SettingWithCopyWarning: \n",
      "A value is trying to be set on a copy of a slice from a DataFrame.\n",
      "Try using .loc[row_indexer,col_indexer] = value instead\n",
      "\n",
      "See the caveats in the documentation: https://pandas.pydata.org/pandas-docs/stable/user_guide/indexing.html#returning-a-view-versus-a-copy\n",
      "  isetter(loc, value[:, i].tolist())\n",
      "/Users/antoine/.pyenv/versions/3.7.7/envs/lewagon/lib/python3.7/site-packages/ipykernel_launcher.py:4: SettingWithCopyWarning: \n",
      "A value is trying to be set on a copy of a slice from a DataFrame.\n",
      "Try using .loc[row_indexer,col_indexer] = value instead\n",
      "\n",
      "See the caveats in the documentation: https://pandas.pydata.org/pandas-docs/stable/user_guide/indexing.html#returning-a-view-versus-a-copy\n",
      "  after removing the cwd from sys.path.\n",
      "/Users/antoine/.pyenv/versions/3.7.7/envs/lewagon/lib/python3.7/site-packages/pandas/core/indexing.py:1736: SettingWithCopyWarning: \n",
      "A value is trying to be set on a copy of a slice from a DataFrame.\n",
      "Try using .loc[row_indexer,col_indexer] = value instead\n",
      "\n",
      "See the caveats in the documentation: https://pandas.pydata.org/pandas-docs/stable/user_guide/indexing.html#returning-a-view-versus-a-copy\n",
      "  isetter(loc, value[:, i].tolist())\n"
     ]
    }
   ],
   "source": [
    "scaler = MinMaxScaler()\n",
    "scaler.fit(df_)\n",
    "df_[df_.columns] =  scaler.transform(df_)\n",
    "df_test[df_.columns] =  scaler.transform(df_test)"
   ]
  },
  {
   "cell_type": "code",
   "execution_count": 8,
   "metadata": {},
   "outputs": [],
   "source": [
    "model = init_model(length, n_days,17,'clf')"
   ]
  },
  {
   "cell_type": "code",
   "execution_count": 6,
   "metadata": {},
   "outputs": [],
   "source": [
    "X_train, y_train = get_X_y(df_, n_days, length, 'clf')"
   ]
  },
  {
   "cell_type": "code",
   "execution_count": 332,
   "metadata": {},
   "outputs": [],
   "source": [
    "#es = EarlyStopping(monitor = 'val_accuracy',mode = 'min' , verbose = 1, patience = 20, restore_best_weights = True)"
   ]
  },
  {
   "cell_type": "code",
   "execution_count": 347,
   "metadata": {},
   "outputs": [
    {
     "name": "stdout",
     "output_type": "stream",
     "text": [
      "Epoch 1/200\n",
      "12/12 [==============================] - 0s 5ms/step - loss: 0.6930 - accuracy: 0.5166\n",
      "Epoch 2/200\n",
      "12/12 [==============================] - 0s 5ms/step - loss: 0.6918 - accuracy: 0.5249\n",
      "Epoch 3/200\n",
      "12/12 [==============================] - 0s 4ms/step - loss: 0.6915 - accuracy: 0.5249\n",
      "Epoch 4/200\n",
      "12/12 [==============================] - 0s 4ms/step - loss: 0.6911 - accuracy: 0.5249\n",
      "Epoch 5/200\n",
      "12/12 [==============================] - 0s 4ms/step - loss: 0.6910 - accuracy: 0.5373\n",
      "Epoch 6/200\n",
      "12/12 [==============================] - 0s 4ms/step - loss: 0.6904 - accuracy: 0.5249\n",
      "Epoch 7/200\n",
      "12/12 [==============================] - 0s 4ms/step - loss: 0.6903 - accuracy: 0.5262\n",
      "Epoch 8/200\n",
      "12/12 [==============================] - 0s 4ms/step - loss: 0.6906 - accuracy: 0.5428\n",
      "Epoch 9/200\n",
      "12/12 [==============================] - 0s 4ms/step - loss: 0.6892 - accuracy: 0.5428\n",
      "Epoch 10/200\n",
      "12/12 [==============================] - 0s 5ms/step - loss: 0.6903 - accuracy: 0.5262\n",
      "Epoch 11/200\n",
      "12/12 [==============================] - 0s 5ms/step - loss: 0.6890 - accuracy: 0.5525\n",
      "Epoch 12/200\n",
      "12/12 [==============================] - 0s 5ms/step - loss: 0.6885 - accuracy: 0.5732\n",
      "Epoch 13/200\n",
      "12/12 [==============================] - 0s 4ms/step - loss: 0.6877 - accuracy: 0.5442\n",
      "Epoch 14/200\n",
      "12/12 [==============================] - 0s 4ms/step - loss: 0.6880 - accuracy: 0.5290\n",
      "Epoch 15/200\n",
      "12/12 [==============================] - 0s 5ms/step - loss: 0.6871 - accuracy: 0.5511\n",
      "Epoch 16/200\n",
      "12/12 [==============================] - 0s 4ms/step - loss: 0.6865 - accuracy: 0.5608\n",
      "Epoch 17/200\n",
      "12/12 [==============================] - 0s 4ms/step - loss: 0.6860 - accuracy: 0.5525\n",
      "Epoch 18/200\n",
      "12/12 [==============================] - 0s 5ms/step - loss: 0.6850 - accuracy: 0.5622\n",
      "Epoch 19/200\n",
      "12/12 [==============================] - 0s 4ms/step - loss: 0.6846 - accuracy: 0.5566\n",
      "Epoch 20/200\n",
      "12/12 [==============================] - 0s 4ms/step - loss: 0.6838 - accuracy: 0.5442\n",
      "Epoch 21/200\n",
      "12/12 [==============================] - 0s 4ms/step - loss: 0.6874 - accuracy: 0.5635\n",
      "Epoch 22/200\n",
      "12/12 [==============================] - 0s 4ms/step - loss: 0.6827 - accuracy: 0.5525\n",
      "Epoch 23/200\n",
      "12/12 [==============================] - 0s 4ms/step - loss: 0.6827 - accuracy: 0.5483\n",
      "Epoch 24/200\n",
      "12/12 [==============================] - 0s 4ms/step - loss: 0.6828 - accuracy: 0.5414\n",
      "Epoch 25/200\n",
      "12/12 [==============================] - 0s 4ms/step - loss: 0.6831 - accuracy: 0.5483\n",
      "Epoch 26/200\n",
      "12/12 [==============================] - 0s 4ms/step - loss: 0.6888 - accuracy: 0.5456\n",
      "Epoch 27/200\n",
      "12/12 [==============================] - 0s 4ms/step - loss: 0.6834 - accuracy: 0.5594\n",
      "Epoch 28/200\n",
      "12/12 [==============================] - 0s 4ms/step - loss: 0.6818 - accuracy: 0.5691\n",
      "Epoch 29/200\n",
      "12/12 [==============================] - 0s 4ms/step - loss: 0.6825 - accuracy: 0.5566\n",
      "Epoch 30/200\n",
      "12/12 [==============================] - 0s 4ms/step - loss: 0.6814 - accuracy: 0.5497\n",
      "Epoch 31/200\n",
      "12/12 [==============================] - 0s 4ms/step - loss: 0.6823 - accuracy: 0.5635\n",
      "Epoch 32/200\n",
      "12/12 [==============================] - 0s 4ms/step - loss: 0.6797 - accuracy: 0.5608\n",
      "Epoch 33/200\n",
      "12/12 [==============================] - 0s 4ms/step - loss: 0.6815 - accuracy: 0.5552\n",
      "Epoch 34/200\n",
      "12/12 [==============================] - 0s 4ms/step - loss: 0.6794 - accuracy: 0.5843\n",
      "Epoch 35/200\n",
      "12/12 [==============================] - 0s 4ms/step - loss: 0.6797 - accuracy: 0.5566\n",
      "Epoch 36/200\n",
      "12/12 [==============================] - 0s 4ms/step - loss: 0.6782 - accuracy: 0.5635\n",
      "Epoch 37/200\n",
      "12/12 [==============================] - 0s 4ms/step - loss: 0.6792 - accuracy: 0.5718\n",
      "Epoch 38/200\n",
      "12/12 [==============================] - 0s 4ms/step - loss: 0.6782 - accuracy: 0.5677\n",
      "Epoch 39/200\n",
      "12/12 [==============================] - 0s 4ms/step - loss: 0.6783 - accuracy: 0.5815\n",
      "Epoch 40/200\n",
      "12/12 [==============================] - 0s 4ms/step - loss: 0.6772 - accuracy: 0.5815\n",
      "Epoch 41/200\n",
      "12/12 [==============================] - 0s 4ms/step - loss: 0.6788 - accuracy: 0.5773\n",
      "Epoch 42/200\n",
      "12/12 [==============================] - 0s 4ms/step - loss: 0.6858 - accuracy: 0.5594\n",
      "Epoch 43/200\n",
      "12/12 [==============================] - 0s 4ms/step - loss: 0.6822 - accuracy: 0.5622\n",
      "Epoch 44/200\n",
      "12/12 [==============================] - 0s 4ms/step - loss: 0.6800 - accuracy: 0.5497\n",
      "Epoch 45/200\n",
      "12/12 [==============================] - 0s 4ms/step - loss: 0.6767 - accuracy: 0.5884\n",
      "Epoch 46/200\n",
      "12/12 [==============================] - 0s 4ms/step - loss: 0.6784 - accuracy: 0.5760\n",
      "Epoch 47/200\n",
      "12/12 [==============================] - 0s 4ms/step - loss: 0.6763 - accuracy: 0.5787\n",
      "Epoch 48/200\n",
      "12/12 [==============================] - 0s 4ms/step - loss: 0.6769 - accuracy: 0.5704\n",
      "Epoch 49/200\n",
      "12/12 [==============================] - 0s 4ms/step - loss: 0.6756 - accuracy: 0.5787\n",
      "Epoch 50/200\n",
      "12/12 [==============================] - 0s 4ms/step - loss: 0.6766 - accuracy: 0.5870\n",
      "Epoch 51/200\n",
      "12/12 [==============================] - 0s 4ms/step - loss: 0.6750 - accuracy: 0.5732\n",
      "Epoch 52/200\n",
      "12/12 [==============================] - 0s 4ms/step - loss: 0.6745 - accuracy: 0.5704\n",
      "Epoch 53/200\n",
      "12/12 [==============================] - 0s 4ms/step - loss: 0.6749 - accuracy: 0.5787\n",
      "Epoch 54/200\n",
      "12/12 [==============================] - 0s 4ms/step - loss: 0.6747 - accuracy: 0.5787\n",
      "Epoch 55/200\n",
      "12/12 [==============================] - 0s 4ms/step - loss: 0.6766 - accuracy: 0.5773\n",
      "Epoch 56/200\n",
      "12/12 [==============================] - 0s 4ms/step - loss: 0.6737 - accuracy: 0.5663\n",
      "Epoch 57/200\n",
      "12/12 [==============================] - 0s 4ms/step - loss: 0.6742 - accuracy: 0.5925\n",
      "Epoch 58/200\n",
      "12/12 [==============================] - 0s 4ms/step - loss: 0.6762 - accuracy: 0.5635\n",
      "Epoch 59/200\n",
      "12/12 [==============================] - 0s 4ms/step - loss: 0.6731 - accuracy: 0.5801\n",
      "Epoch 60/200\n",
      "12/12 [==============================] - 0s 4ms/step - loss: 0.6736 - accuracy: 0.5815\n",
      "Epoch 61/200\n",
      "12/12 [==============================] - 0s 4ms/step - loss: 0.6726 - accuracy: 0.5898\n",
      "Epoch 62/200\n",
      "12/12 [==============================] - 0s 4ms/step - loss: 0.6745 - accuracy: 0.5787\n",
      "Epoch 63/200\n",
      "12/12 [==============================] - 0s 4ms/step - loss: 0.6753 - accuracy: 0.5760\n",
      "Epoch 64/200\n",
      "12/12 [==============================] - 0s 4ms/step - loss: 0.6765 - accuracy: 0.5787\n",
      "Epoch 65/200\n",
      "12/12 [==============================] - 0s 4ms/step - loss: 0.6758 - accuracy: 0.5732\n",
      "Epoch 66/200\n",
      "12/12 [==============================] - 0s 4ms/step - loss: 0.6780 - accuracy: 0.5649\n",
      "Epoch 67/200\n",
      "12/12 [==============================] - 0s 4ms/step - loss: 0.6738 - accuracy: 0.5884\n",
      "Epoch 68/200\n",
      "12/12 [==============================] - 0s 4ms/step - loss: 0.6750 - accuracy: 0.5760\n",
      "Epoch 69/200\n",
      "12/12 [==============================] - 0s 4ms/step - loss: 0.6707 - accuracy: 0.5829\n",
      "Epoch 70/200\n",
      "12/12 [==============================] - 0s 4ms/step - loss: 0.6723 - accuracy: 0.5967\n",
      "Epoch 71/200\n",
      "12/12 [==============================] - 0s 4ms/step - loss: 0.6722 - accuracy: 0.5732\n",
      "Epoch 72/200\n",
      "12/12 [==============================] - 0s 4ms/step - loss: 0.6760 - accuracy: 0.5801\n",
      "Epoch 73/200\n",
      "12/12 [==============================] - 0s 4ms/step - loss: 0.6714 - accuracy: 0.5856\n",
      "Epoch 74/200\n",
      "12/12 [==============================] - 0s 4ms/step - loss: 0.6714 - accuracy: 0.5649\n",
      "Epoch 75/200\n",
      "12/12 [==============================] - 0s 4ms/step - loss: 0.6704 - accuracy: 0.5829\n",
      "Epoch 76/200\n",
      "12/12 [==============================] - 0s 4ms/step - loss: 0.6702 - accuracy: 0.5704\n",
      "Epoch 77/200\n",
      "12/12 [==============================] - 0s 4ms/step - loss: 0.6702 - accuracy: 0.5856\n",
      "Epoch 78/200\n",
      "12/12 [==============================] - 0s 4ms/step - loss: 0.6693 - accuracy: 0.5912\n",
      "Epoch 79/200\n",
      "12/12 [==============================] - 0s 4ms/step - loss: 0.6682 - accuracy: 0.5843\n",
      "Epoch 80/200\n",
      "12/12 [==============================] - 0s 4ms/step - loss: 0.6704 - accuracy: 0.5843\n",
      "Epoch 81/200\n",
      "12/12 [==============================] - 0s 4ms/step - loss: 0.6682 - accuracy: 0.5787\n",
      "Epoch 82/200\n",
      "12/12 [==============================] - 0s 4ms/step - loss: 0.6696 - accuracy: 0.5732\n",
      "Epoch 83/200\n"
     ]
    },
    {
     "name": "stdout",
     "output_type": "stream",
     "text": [
      "12/12 [==============================] - 0s 4ms/step - loss: 0.6687 - accuracy: 0.5773\n",
      "Epoch 84/200\n",
      "12/12 [==============================] - 0s 4ms/step - loss: 0.6672 - accuracy: 0.5870\n",
      "Epoch 85/200\n",
      "12/12 [==============================] - 0s 4ms/step - loss: 0.6742 - accuracy: 0.5856\n",
      "Epoch 86/200\n",
      "12/12 [==============================] - 0s 4ms/step - loss: 0.6667 - accuracy: 0.5829\n",
      "Epoch 87/200\n",
      "12/12 [==============================] - 0s 4ms/step - loss: 0.6677 - accuracy: 0.5815\n",
      "Epoch 88/200\n",
      "12/12 [==============================] - 0s 4ms/step - loss: 0.6697 - accuracy: 0.5760\n",
      "Epoch 89/200\n",
      "12/12 [==============================] - 0s 4ms/step - loss: 0.6678 - accuracy: 0.5691\n",
      "Epoch 90/200\n",
      "12/12 [==============================] - 0s 4ms/step - loss: 0.6749 - accuracy: 0.5801\n",
      "Epoch 91/200\n",
      "12/12 [==============================] - 0s 4ms/step - loss: 0.6682 - accuracy: 0.5829\n",
      "Epoch 92/200\n",
      "12/12 [==============================] - 0s 4ms/step - loss: 0.6667 - accuracy: 0.5843\n",
      "Epoch 93/200\n",
      "12/12 [==============================] - 0s 4ms/step - loss: 0.6691 - accuracy: 0.5787\n",
      "Epoch 94/200\n",
      "12/12 [==============================] - 0s 4ms/step - loss: 0.6678 - accuracy: 0.5898\n",
      "Epoch 95/200\n",
      "12/12 [==============================] - 0s 4ms/step - loss: 0.6647 - accuracy: 0.5773\n",
      "Epoch 96/200\n",
      "12/12 [==============================] - 0s 4ms/step - loss: 0.6658 - accuracy: 0.5870\n",
      "Epoch 97/200\n",
      "12/12 [==============================] - 0s 4ms/step - loss: 0.6676 - accuracy: 0.5815\n",
      "Epoch 98/200\n",
      "12/12 [==============================] - 0s 4ms/step - loss: 0.6648 - accuracy: 0.5718\n",
      "Epoch 99/200\n",
      "12/12 [==============================] - 0s 4ms/step - loss: 0.6649 - accuracy: 0.5732\n",
      "Epoch 100/200\n",
      "12/12 [==============================] - 0s 4ms/step - loss: 0.6652 - accuracy: 0.5732\n",
      "Epoch 101/200\n",
      "12/12 [==============================] - 0s 4ms/step - loss: 0.6638 - accuracy: 0.5801\n",
      "Epoch 102/200\n",
      "12/12 [==============================] - 0s 4ms/step - loss: 0.6651 - accuracy: 0.5801\n",
      "Epoch 103/200\n",
      "12/12 [==============================] - 0s 4ms/step - loss: 0.6676 - accuracy: 0.5732\n",
      "Epoch 104/200\n",
      "12/12 [==============================] - 0s 4ms/step - loss: 0.6701 - accuracy: 0.5718\n",
      "Epoch 105/200\n",
      "12/12 [==============================] - 0s 4ms/step - loss: 0.6701 - accuracy: 0.5815\n",
      "Epoch 106/200\n",
      "12/12 [==============================] - 0s 4ms/step - loss: 0.6643 - accuracy: 0.5939\n",
      "Epoch 107/200\n",
      "12/12 [==============================] - 0s 4ms/step - loss: 0.6724 - accuracy: 0.5622\n",
      "Epoch 108/200\n",
      "12/12 [==============================] - 0s 4ms/step - loss: 0.6737 - accuracy: 0.5691\n",
      "Epoch 109/200\n",
      "12/12 [==============================] - 0s 4ms/step - loss: 0.6649 - accuracy: 0.5773\n",
      "Epoch 110/200\n",
      "12/12 [==============================] - 0s 4ms/step - loss: 0.6620 - accuracy: 0.5898\n",
      "Epoch 111/200\n",
      "12/12 [==============================] - 0s 4ms/step - loss: 0.6642 - accuracy: 0.5801\n",
      "Epoch 112/200\n",
      "12/12 [==============================] - 0s 4ms/step - loss: 0.6669 - accuracy: 0.5622\n",
      "Epoch 113/200\n",
      "12/12 [==============================] - 0s 4ms/step - loss: 0.6652 - accuracy: 0.5815\n",
      "Epoch 114/200\n",
      "12/12 [==============================] - 0s 4ms/step - loss: 0.6650 - accuracy: 0.5967\n",
      "Epoch 115/200\n",
      "12/12 [==============================] - 0s 4ms/step - loss: 0.6597 - accuracy: 0.5898\n",
      "Epoch 116/200\n",
      "12/12 [==============================] - 0s 4ms/step - loss: 0.6597 - accuracy: 0.5925\n",
      "Epoch 117/200\n",
      "12/12 [==============================] - 0s 4ms/step - loss: 0.6585 - accuracy: 0.5843\n",
      "Epoch 118/200\n",
      "12/12 [==============================] - 0s 4ms/step - loss: 0.6635 - accuracy: 0.5939\n",
      "Epoch 119/200\n",
      "12/12 [==============================] - 0s 4ms/step - loss: 0.6654 - accuracy: 0.5898\n",
      "Epoch 120/200\n",
      "12/12 [==============================] - 0s 4ms/step - loss: 0.6588 - accuracy: 0.5994\n",
      "Epoch 121/200\n",
      "12/12 [==============================] - 0s 4ms/step - loss: 0.6622 - accuracy: 0.6036\n",
      "Epoch 122/200\n",
      "12/12 [==============================] - 0s 4ms/step - loss: 0.6609 - accuracy: 0.5801\n",
      "Epoch 123/200\n",
      "12/12 [==============================] - 0s 4ms/step - loss: 0.6666 - accuracy: 0.5870\n",
      "Epoch 124/200\n",
      "12/12 [==============================] - 0s 4ms/step - loss: 0.6611 - accuracy: 0.5939\n",
      "Epoch 125/200\n",
      "12/12 [==============================] - 0s 4ms/step - loss: 0.6603 - accuracy: 0.5912\n",
      "Epoch 126/200\n",
      "12/12 [==============================] - 0s 4ms/step - loss: 0.6590 - accuracy: 0.6036\n",
      "Epoch 127/200\n",
      "12/12 [==============================] - 0s 4ms/step - loss: 0.6572 - accuracy: 0.5870\n",
      "Epoch 128/200\n",
      "12/12 [==============================] - 0s 4ms/step - loss: 0.6583 - accuracy: 0.6022\n",
      "Epoch 129/200\n",
      "12/12 [==============================] - 0s 4ms/step - loss: 0.6563 - accuracy: 0.5939\n",
      "Epoch 130/200\n",
      "12/12 [==============================] - 0s 4ms/step - loss: 0.6566 - accuracy: 0.5967\n",
      "Epoch 131/200\n",
      "12/12 [==============================] - 0s 4ms/step - loss: 0.6551 - accuracy: 0.6022\n",
      "Epoch 132/200\n",
      "12/12 [==============================] - 0s 4ms/step - loss: 0.6570 - accuracy: 0.6105\n",
      "Epoch 133/200\n",
      "12/12 [==============================] - 0s 4ms/step - loss: 0.6539 - accuracy: 0.5967\n",
      "Epoch 134/200\n",
      "12/12 [==============================] - 0s 5ms/step - loss: 0.6591 - accuracy: 0.6022\n",
      "Epoch 135/200\n",
      "12/12 [==============================] - 0s 6ms/step - loss: 0.6534 - accuracy: 0.5981\n",
      "Epoch 136/200\n",
      "12/12 [==============================] - 0s 5ms/step - loss: 0.6543 - accuracy: 0.5994\n",
      "Epoch 137/200\n",
      "12/12 [==============================] - 0s 5ms/step - loss: 0.6570 - accuracy: 0.5898\n",
      "Epoch 138/200\n",
      "12/12 [==============================] - 0s 6ms/step - loss: 0.6564 - accuracy: 0.6008\n",
      "Epoch 139/200\n",
      "12/12 [==============================] - 0s 4ms/step - loss: 0.6632 - accuracy: 0.6022\n",
      "Epoch 140/200\n",
      "12/12 [==============================] - 0s 5ms/step - loss: 0.6505 - accuracy: 0.6064\n",
      "Epoch 141/200\n",
      "12/12 [==============================] - 0s 5ms/step - loss: 0.6545 - accuracy: 0.5912\n",
      "Epoch 142/200\n",
      "12/12 [==============================] - 0s 4ms/step - loss: 0.6522 - accuracy: 0.6008\n",
      "Epoch 143/200\n",
      "12/12 [==============================] - 0s 5ms/step - loss: 0.6524 - accuracy: 0.5967\n",
      "Epoch 144/200\n",
      "12/12 [==============================] - 0s 4ms/step - loss: 0.6496 - accuracy: 0.6119\n",
      "Epoch 145/200\n",
      "12/12 [==============================] - 0s 5ms/step - loss: 0.6494 - accuracy: 0.6050\n",
      "Epoch 146/200\n",
      "12/12 [==============================] - 0s 5ms/step - loss: 0.6465 - accuracy: 0.6008\n",
      "Epoch 147/200\n",
      "12/12 [==============================] - 0s 5ms/step - loss: 0.6502 - accuracy: 0.5994\n",
      "Epoch 148/200\n",
      "12/12 [==============================] - 0s 5ms/step - loss: 0.6531 - accuracy: 0.5925\n",
      "Epoch 149/200\n",
      "12/12 [==============================] - 0s 4ms/step - loss: 0.6462 - accuracy: 0.6202\n",
      "Epoch 150/200\n",
      "12/12 [==============================] - 0s 4ms/step - loss: 0.6517 - accuracy: 0.5939\n",
      "Epoch 151/200\n",
      "12/12 [==============================] - 0s 4ms/step - loss: 0.6498 - accuracy: 0.6105\n",
      "Epoch 152/200\n",
      "12/12 [==============================] - 0s 4ms/step - loss: 0.6479 - accuracy: 0.6077\n",
      "Epoch 153/200\n",
      "12/12 [==============================] - 0s 5ms/step - loss: 0.6449 - accuracy: 0.6312\n",
      "Epoch 154/200\n",
      "12/12 [==============================] - 0s 4ms/step - loss: 0.6502 - accuracy: 0.5994\n",
      "Epoch 155/200\n",
      "12/12 [==============================] - 0s 4ms/step - loss: 0.6446 - accuracy: 0.6133\n",
      "Epoch 156/200\n",
      "12/12 [==============================] - 0s 4ms/step - loss: 0.6434 - accuracy: 0.6119\n",
      "Epoch 157/200\n",
      "12/12 [==============================] - 0s 4ms/step - loss: 0.6499 - accuracy: 0.6105\n",
      "Epoch 158/200\n",
      "12/12 [==============================] - 0s 4ms/step - loss: 0.6460 - accuracy: 0.6064\n",
      "Epoch 159/200\n",
      "12/12 [==============================] - 0s 4ms/step - loss: 0.6420 - accuracy: 0.6119\n",
      "Epoch 160/200\n",
      "12/12 [==============================] - 0s 4ms/step - loss: 0.6433 - accuracy: 0.6133\n",
      "Epoch 161/200\n",
      "12/12 [==============================] - 0s 4ms/step - loss: 0.6448 - accuracy: 0.6105\n",
      "Epoch 162/200\n",
      "12/12 [==============================] - 0s 4ms/step - loss: 0.6393 - accuracy: 0.6105\n",
      "Epoch 163/200\n",
      "12/12 [==============================] - 0s 4ms/step - loss: 0.6370 - accuracy: 0.6202\n",
      "Epoch 164/200\n",
      "12/12 [==============================] - 0s 4ms/step - loss: 0.6433 - accuracy: 0.5967\n",
      "Epoch 165/200\n",
      "12/12 [==============================] - 0s 5ms/step - loss: 0.6609 - accuracy: 0.5746\n",
      "Epoch 166/200\n",
      "12/12 [==============================] - 0s 4ms/step - loss: 0.6485 - accuracy: 0.6050\n",
      "Epoch 167/200\n",
      "12/12 [==============================] - 0s 5ms/step - loss: 0.6507 - accuracy: 0.6008\n",
      "Epoch 168/200\n",
      "12/12 [==============================] - 0s 4ms/step - loss: 0.6436 - accuracy: 0.6202\n",
      "Epoch 169/200\n",
      "12/12 [==============================] - 0s 4ms/step - loss: 0.6556 - accuracy: 0.6050\n",
      "Epoch 170/200\n",
      "12/12 [==============================] - 0s 4ms/step - loss: 0.6452 - accuracy: 0.6133\n",
      "Epoch 171/200\n",
      "12/12 [==============================] - 0s 4ms/step - loss: 0.6356 - accuracy: 0.6188\n",
      "Epoch 172/200\n",
      "12/12 [==============================] - 0s 4ms/step - loss: 0.6368 - accuracy: 0.6188\n",
      "Epoch 173/200\n",
      "12/12 [==============================] - 0s 4ms/step - loss: 0.6420 - accuracy: 0.6188\n",
      "Epoch 174/200\n",
      "12/12 [==============================] - 0s 4ms/step - loss: 0.6394 - accuracy: 0.6146\n",
      "Epoch 175/200\n",
      "12/12 [==============================] - 0s 4ms/step - loss: 0.6365 - accuracy: 0.6174\n",
      "Epoch 176/200\n",
      "12/12 [==============================] - 0s 4ms/step - loss: 0.6373 - accuracy: 0.6146\n",
      "Epoch 177/200\n",
      "12/12 [==============================] - 0s 4ms/step - loss: 0.6370 - accuracy: 0.6202\n",
      "Epoch 178/200\n",
      "12/12 [==============================] - 0s 4ms/step - loss: 0.6361 - accuracy: 0.6133\n",
      "Epoch 179/200\n",
      "12/12 [==============================] - 0s 4ms/step - loss: 0.6469 - accuracy: 0.5994\n",
      "Epoch 180/200\n",
      "12/12 [==============================] - 0s 4ms/step - loss: 0.6290 - accuracy: 0.6326\n",
      "Epoch 181/200\n",
      "12/12 [==============================] - 0s 4ms/step - loss: 0.6331 - accuracy: 0.6160\n",
      "Epoch 182/200\n",
      "12/12 [==============================] - 0s 4ms/step - loss: 0.6328 - accuracy: 0.6229\n",
      "Epoch 183/200\n",
      "12/12 [==============================] - 0s 4ms/step - loss: 0.6367 - accuracy: 0.6271\n",
      "Epoch 184/200\n",
      "12/12 [==============================] - 0s 4ms/step - loss: 0.6231 - accuracy: 0.6367\n",
      "Epoch 185/200\n",
      "12/12 [==============================] - 0s 4ms/step - loss: 0.6314 - accuracy: 0.6285\n",
      "Epoch 186/200\n",
      "12/12 [==============================] - 0s 4ms/step - loss: 0.6278 - accuracy: 0.6312\n",
      "Epoch 187/200\n",
      "12/12 [==============================] - 0s 4ms/step - loss: 0.6340 - accuracy: 0.6229\n",
      "Epoch 188/200\n",
      "12/12 [==============================] - 0s 4ms/step - loss: 0.6380 - accuracy: 0.6243\n",
      "Epoch 189/200\n",
      "12/12 [==============================] - 0s 4ms/step - loss: 0.6334 - accuracy: 0.6229\n",
      "Epoch 190/200\n",
      "12/12 [==============================] - 0s 4ms/step - loss: 0.6249 - accuracy: 0.6340\n",
      "Epoch 191/200\n",
      "12/12 [==============================] - 0s 4ms/step - loss: 0.6283 - accuracy: 0.6492\n",
      "Epoch 192/200\n",
      "12/12 [==============================] - 0s 4ms/step - loss: 0.6265 - accuracy: 0.6229\n",
      "Epoch 193/200\n",
      "12/12 [==============================] - 0s 4ms/step - loss: 0.6312 - accuracy: 0.6271\n",
      "Epoch 194/200\n",
      "12/12 [==============================] - 0s 4ms/step - loss: 0.6296 - accuracy: 0.6312\n",
      "Epoch 195/200\n",
      "12/12 [==============================] - 0s 4ms/step - loss: 0.6243 - accuracy: 0.6478\n",
      "Epoch 196/200\n",
      "12/12 [==============================] - 0s 4ms/step - loss: 0.6322 - accuracy: 0.6146\n",
      "Epoch 197/200\n",
      "12/12 [==============================] - 0s 4ms/step - loss: 0.6279 - accuracy: 0.6436\n",
      "Epoch 198/200\n",
      "12/12 [==============================] - 0s 4ms/step - loss: 0.6301 - accuracy: 0.6202\n",
      "Epoch 199/200\n",
      "12/12 [==============================] - 0s 4ms/step - loss: 0.6206 - accuracy: 0.6326\n",
      "Epoch 200/200\n",
      "12/12 [==============================] - 0s 4ms/step - loss: 0.6238 - accuracy: 0.6229\n"
     ]
    }
   ],
   "source": [
    "history = model.fit(np.array(X_train), np.array(y_train),\n",
    "                    #validation_split = 0.3,\n",
    "                    #callbacks = [es],\n",
    "                    epochs = 200,\n",
    "                    batch_size = 64,\n",
    "                    verbose = True,\n",
    "                    shuffle = True)"
   ]
  },
  {
   "cell_type": "code",
   "execution_count": 348,
   "metadata": {},
   "outputs": [
    {
     "ename": "KeyError",
     "evalue": "'val_accuracy'",
     "output_type": "error",
     "traceback": [
      "\u001b[0;31m---------------------------------------------------------------------------\u001b[0m",
      "\u001b[0;31mKeyError\u001b[0m                                  Traceback (most recent call last)",
      "\u001b[0;32m<ipython-input-348-adc6b61e8e36>\u001b[0m in \u001b[0;36m<module>\u001b[0;34m\u001b[0m\n\u001b[1;32m      1\u001b[0m \u001b[0mplt\u001b[0m\u001b[0;34m.\u001b[0m\u001b[0mplot\u001b[0m\u001b[0;34m(\u001b[0m\u001b[0mhistory\u001b[0m\u001b[0;34m.\u001b[0m\u001b[0mhistory\u001b[0m\u001b[0;34m[\u001b[0m\u001b[0;34m'accuracy'\u001b[0m\u001b[0;34m]\u001b[0m\u001b[0;34m)\u001b[0m\u001b[0;34m\u001b[0m\u001b[0;34m\u001b[0m\u001b[0m\n\u001b[0;32m----> 2\u001b[0;31m \u001b[0mplt\u001b[0m\u001b[0;34m.\u001b[0m\u001b[0mplot\u001b[0m\u001b[0;34m(\u001b[0m\u001b[0mhistory\u001b[0m\u001b[0;34m.\u001b[0m\u001b[0mhistory\u001b[0m\u001b[0;34m[\u001b[0m\u001b[0;34m'val_accuracy'\u001b[0m\u001b[0;34m]\u001b[0m\u001b[0;34m)\u001b[0m\u001b[0;34m\u001b[0m\u001b[0;34m\u001b[0m\u001b[0m\n\u001b[0m\u001b[1;32m      3\u001b[0m \u001b[0mplt\u001b[0m\u001b[0;34m.\u001b[0m\u001b[0mtitle\u001b[0m\u001b[0;34m(\u001b[0m\u001b[0;34m'Model loss'\u001b[0m\u001b[0;34m)\u001b[0m\u001b[0;34m\u001b[0m\u001b[0;34m\u001b[0m\u001b[0m\n\u001b[1;32m      4\u001b[0m \u001b[0mplt\u001b[0m\u001b[0;34m.\u001b[0m\u001b[0mylabel\u001b[0m\u001b[0;34m(\u001b[0m\u001b[0;34m'Mean Absolute Error'\u001b[0m\u001b[0;34m)\u001b[0m\u001b[0;34m\u001b[0m\u001b[0;34m\u001b[0m\u001b[0m\n\u001b[1;32m      5\u001b[0m \u001b[0mplt\u001b[0m\u001b[0;34m.\u001b[0m\u001b[0mxlabel\u001b[0m\u001b[0;34m(\u001b[0m\u001b[0;34m'Epoch'\u001b[0m\u001b[0;34m)\u001b[0m\u001b[0;34m\u001b[0m\u001b[0;34m\u001b[0m\u001b[0m\n",
      "\u001b[0;31mKeyError\u001b[0m: 'val_accuracy'"
     ]
    },
    {
     "data": {
      "image/png": "[encoded data removed]",
      "text/plain": [
       "<Figure size 432x288 with 1 Axes>"
      ]
     },
     "metadata": {
      "needs_background": "light"
     },
     "output_type": "display_data"
    }
   ],
   "source": [
    "plt.plot(history.history['accuracy'])\n",
    "plt.plot(history.history['val_accuracy'])\n",
    "plt.title('Model loss')\n",
    "plt.ylabel('Mean Absolute Error')\n",
    "plt.xlabel('Epoch')\n",
    "plt.legend(['Train', 'Validation'], loc='best')\n",
    "plt.show()"
   ]
  },
  {
   "cell_type": "code",
   "execution_count": 363,
   "metadata": {},
   "outputs": [],
   "source": [
    "pred_ = []\n",
    "pred = []\n",
    "profit = 1\n",
    "for x in range(len(df_test)-length):\n",
    "    y = df_test.drop(columns = 'up')[x:x+length].values\n",
    "    y.shape = (1, y.shape[0],y.shape[1])\n",
    "    predict = model.predict(y)\n",
    "    pred_.append(predict)\n",
    "    if predict > 0.3 : \n",
    "        pred.append(1)\n",
    "    else : \n",
    "        pred.append(0)\n",
    "    if pred[x-1] == 1 :\n",
    "        result = ((df['close'].iloc[x] - df['close'].iloc[x-1]) / df['close'].iloc[x-1]) + 1\n",
    "        profit = profit * result\n",
    "accuracy = accuracy_score(df_test['up'][length:].values, np.array(pred).ravel())\n",
    "tn, fp, fn, tp = confusion_matrix(df_test['up'][length:].values, np.array(pred).ravel()).ravel()"
   ]
  },
  {
   "cell_type": "code",
   "execution_count": 25,
   "metadata": {},
   "outputs": [],
   "source": [
    "df  = pd.read_csv('data_2.csv').set_index('date').dropna()"
   ]
  },
  {
   "cell_type": "code",
   "execution_count": 26,
   "metadata": {},
   "outputs": [],
   "source": [
    "df['close'] = df['close'].map(lambda x  : np.exp(x))"
   ]
  },
  {
   "cell_type": "code",
   "execution_count": 35,
   "metadata": {},
   "outputs": [],
   "source": [
    "maxi = 1\n",
    "for x in range(1,len(df)) :\n",
    "    t = ((df['close'].iloc[x] - df['close'].iloc[x-1]) / df['close'].iloc[x-1]) + 1\n",
    "    if t > maxi : \n",
    "        maxi = t"
   ]
  },
  {
   "cell_type": "code",
   "execution_count": 32,
   "metadata": {},
   "outputs": [],
   "source": [
    "df = df[2610:]"
   ]
  },
  {
   "cell_type": "code",
   "execution_count": 36,
   "metadata": {},
   "outputs": [
    {
     "data": {
      "text/plain": [
       "1.2316190464924501"
      ]
     },
     "execution_count": 36,
     "metadata": {},
     "output_type": "execute_result"
    }
   ],
   "source": [
    "maxi"
   ]
  },
  {
   "cell_type": "code",
   "execution_count": 262,
   "metadata": {},
   "outputs": [],
   "source": [
    "profit = [0]\n",
    "for x in range(1, len(df)) : \n",
    "    profit.append(((df['close'].iloc[x] - df['close'].iloc[x-1]) / df['close'].iloc[x-1]) + 1)"
   ]
  },
  {
   "cell_type": "code",
   "execution_count": 263,
   "metadata": {},
   "outputs": [],
   "source": [
    "df['profit'] = profit"
   ]
  },
  {
   "cell_type": "code",
   "execution_count": 265,
   "metadata": {},
   "outputs": [],
   "source": [
    "df_test = df.iloc[s-length:s+90]"
   ]
  },
  {
   "cell_type": "code",
   "execution_count": 267,
   "metadata": {},
   "outputs": [
    {
     "data": {
      "text/plain": [
       "1.2542468034919008"
      ]
     },
     "execution_count": 267,
     "metadata": {},
     "output_type": "execute_result"
    }
   ],
   "source": [
    "df_test['profit'].prod()"
   ]
  },
  {
   "cell_type": "code",
   "execution_count": 75,
   "metadata": {},
   "outputs": [],
   "source": [
    "df  = pd.read_csv('data_2.csv').set_index('date').dropna()\n",
    "#df['close'] = df['close'].map(lambda x  : np.exp(x))"
   ]
  },
  {
   "cell_type": "code",
   "execution_count": 68,
   "metadata": {},
   "outputs": [],
   "source": [
    "n = 1425 +11*90\n",
    "s = 2520+11*90\n",
    "score_trim = {}\n",
    "s += 90\n",
    "n += 90\n",
    "score = []\n",
    "df_test = df.iloc[s:s+90]\n",
    "df_ = df.iloc[n:s]"
   ]
  },
  {
   "cell_type": "code",
   "execution_count": 69,
   "metadata": {},
   "outputs": [
    {
     "name": "stderr",
     "output_type": "stream",
     "text": [
      "/Users/antoine/.pyenv/versions/3.7.7/envs/lewagon/lib/python3.7/site-packages/ipykernel_launcher.py:1: SettingWithCopyWarning: \n",
      "A value is trying to be set on a copy of a slice from a DataFrame.\n",
      "Try using .loc[row_indexer,col_indexer] = value instead\n",
      "\n",
      "See the caveats in the documentation: https://pandas.pydata.org/pandas-docs/stable/user_guide/indexing.html#returning-a-view-versus-a-copy\n",
      "  \"\"\"Entry point for launching an IPython kernel.\n"
     ]
    }
   ],
   "source": [
    "df_test['close'] = df_test['close'].map(lambda x  : np.exp(x))"
   ]
  },
  {
   "cell_type": "code",
   "execution_count": 59,
   "metadata": {},
   "outputs": [],
   "source": [
    "profit = []\n",
    "for x in range(1, len(df_test)) : \n",
    "    profit.append(((df_test['close'].iloc[x] - df_test['close'].iloc[x-1]) / df_test['close'].iloc[x-1]) + 1)"
   ]
  },
  {
   "cell_type": "code",
   "execution_count": 60,
   "metadata": {},
   "outputs": [
    {
     "data": {
      "text/plain": [
       "0.8966930841710028"
      ]
     },
     "execution_count": 60,
     "metadata": {},
     "output_type": "execute_result"
    }
   ],
   "source": [
    "min(profit)"
   ]
  },
  {
   "cell_type": "code",
   "execution_count": 72,
   "metadata": {},
   "outputs": [
    {
     "data": {
      "text/plain": [
       "9906.345194010004"
      ]
     },
     "execution_count": 72,
     "metadata": {},
     "output_type": "execute_result"
    }
   ],
   "source": [
    "df_test['close'].min()"
   ]
  },
  {
   "cell_type": "code",
   "execution_count": 73,
   "metadata": {},
   "outputs": [],
   "source": [
    "profit = []\n",
    "for x in range(1, len(df_test)) : \n",
    "    profit.append(((df_test['close'].iloc[x] - df_test['close'].iloc[x-1]) / df_test['close'].iloc[x-1]) + 1)"
   ]
  },
  {
   "cell_type": "code",
   "execution_count": 74,
   "metadata": {},
   "outputs": [
    {
     "data": {
      "text/plain": [
       "0.8966930841710028"
      ]
     },
     "execution_count": 74,
     "metadata": {},
     "output_type": "execute_result"
    }
   ],
   "source": [
    "min(profit)"
   ]
  },
  {
   "cell_type": "code",
   "execution_count": 80,
   "metadata": {},
   "outputs": [
    {
     "data": {
      "text/plain": [
       "[<matplotlib.lines.Line2D at 0x14ead1490>]"
      ]
     },
     "execution_count": 80,
     "metadata": {},
     "output_type": "execute_result"
    },
    {
     "data": {
      "image/png": "[encoded data removed]",
      "text/plain": [
       "<Figure size 432x288 with 1 Axes>"
      ]
     },
     "metadata": {
      "needs_background": "light"
     },
     "output_type": "display_data"
    }
   ],
   "source": [
    "plt.plot(df['close'].iloc[2610:2700])"
   ]
  },
  {
   "cell_type": "code",
   "execution_count": 18,
   "metadata": {},
   "outputs": [],
   "source": [
    "train = []\n",
    "for s in range(len(X_train)) : \n",
    "    train.append(X_train[s].ravel())"
   ]
  },
  {
   "cell_type": "code",
   "execution_count": 13,
   "metadata": {},
   "outputs": [
    {
     "data": {
      "text/plain": [
       "array([[0.35403011, 0.67972145, 0.44505477, 0.09903075, 0.48431897,\n",
       "        0.9725422 , 0.63114472, 0.63919444, 0.63942451, 0.65913575,\n",
       "        0.52688451, 0.25021661, 0.98763443, 0.68209538, 0.23389719,\n",
       "        0.65913575, 0.69223656],\n",
       "       [0.38220976, 0.73463896, 0.45082699, 0.13765251, 0.49138789,\n",
       "        0.99958069, 0.55811643, 0.63287538, 0.55975813, 0.55832987,\n",
       "        0.53625358, 0.25575922, 0.9971367 , 0.62140424, 0.21109031,\n",
       "        0.55832987, 0.6386532 ],\n",
       "       [0.40942609, 0.77925856, 0.46071071, 0.17902605, 0.48628213,\n",
       "        0.99711   , 0.69300993, 0.67046126, 0.73069559, 0.74154041,\n",
       "        0.56047242, 0.26867752, 1.        , 0.74872169, 0.25557081,\n",
       "        0.74154041, 0.74807518],\n",
       "       [0.43096782, 0.80999422, 0.47259512, 0.20574836, 0.507065  ,\n",
       "        0.94880816, 0.6874899 , 0.71825525, 0.67918537, 0.71905269,\n",
       "        0.60577775, 0.29410462, 0.98311531, 0.70836999, 0.24417051,\n",
       "        0.71905269, 0.70440322],\n",
       "       [0.44318828, 0.82619573, 0.48371269, 0.22764151, 0.50994829,\n",
       "        0.95688631, 0.57467907, 0.63136592, 0.61809874, 0.55855893,\n",
       "        0.62822266, 0.30674505, 0.96964717, 0.61020043, 0.1610384 ,\n",
       "        0.55855893, 0.46488261]])"
      ]
     },
     "execution_count": 13,
     "metadata": {},
     "output_type": "execute_result"
    }
   ],
   "source": [
    "x.reshape(5,17)"
   ]
  },
  {
   "cell_type": "code",
   "execution_count": 2,
   "metadata": {},
   "outputs": [],
   "source": [
    "df  = pd.read_csv('data_2.csv').set_index('date').dropna()"
   ]
  },
  {
   "cell_type": "code",
   "execution_count": 6,
   "metadata": {},
   "outputs": [
    {
     "data": {
      "text/plain": [
       "close                  7.947427\n",
       "rsi_14                60.834745\n",
       "macd                  22.646398\n",
       "william_a/d            8.298622\n",
       "ATR                    5.442247\n",
       "ath                    0.943570\n",
       "new_adress            12.610394\n",
       "sopr                   1.018288\n",
       "utxo                  13.273710\n",
       "transac_sec            0.949072\n",
       "mvrv_z                 4.166735\n",
       "nvts                  11.019055\n",
       "pct_profit             0.987998\n",
       "active_adress         13.377068\n",
       "hash_rate             43.299689\n",
       "transactions_count    12.315815\n",
       "utxo_spent            13.434257\n",
       "up                     1.000000\n",
       "Name: 2017-07-22, dtype: float64"
      ]
     },
     "execution_count": 6,
     "metadata": {},
     "output_type": "execute_result"
    }
   ],
   "source": [
    "df.iloc[2500]"
   ]
  },
  {
   "cell_type": "code",
   "execution_count": null,
   "metadata": {},
   "outputs": [],
   "source": []
  }
 ],
 "metadata": {
  "kernelspec": {
   "display_name": "Python 3",
   "language": "python",
   "name": "python3"
  },
  "language_info": {
   "codemirror_mode": {
    "name": "ipython",
    "version": 3
   },
   "file_extension": ".py",
   "mimetype": "text/x-python",
   "name": "python",
   "nbconvert_exporter": "python",
   "pygments_lexer": "ipython3",
   "version": "3.7.7"
  }
 },
 "nbformat": 4,
 "nbformat_minor": 4
}
