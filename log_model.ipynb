{
 "cells": [
  {
   "cell_type": "code",
   "execution_count": 26,
   "metadata": {},
   "outputs": [
    {
     "name": "stdout",
     "output_type": "stream",
     "text": [
      "The autoreload extension is already loaded. To reload it, use:\n",
      "  %reload_ext autoreload\n"
     ]
    }
   ],
   "source": [
    "%load_ext autoreload"
   ]
  },
  {
   "cell_type": "code",
   "execution_count": 27,
   "metadata": {},
   "outputs": [],
   "source": [
    "%autoreload 2"
   ]
  },
  {
   "cell_type": "code",
   "execution_count": 28,
   "metadata": {},
   "outputs": [],
   "source": [
    "from sklearn.linear_model import LogisticRegression\n",
    "import pandas as pd\n",
    "from utility_function import get_X_y , init_model, plot_loss\n",
    "from tensorflow.keras.callbacks import EarlyStopping\n",
    "import numpy as np\n",
    "import matplotlib.pyplot as plt\n",
    "from sklearn.preprocessing import MinMaxScaler\n",
    "from sklearn.metrics import accuracy_score\n",
    "from tensorflow.keras.layers import Dense , Input , LSTM, Bidirectional, Dropout\n",
    "from tensorflow.keras.models import Model , Sequential\n",
    "from tensorflow.keras import regularizers\n",
    "from sklearn.metrics import recall_score\n",
    "from sklearn.metrics import confusion_matrix"
   ]
  },
  {
   "cell_type": "code",
   "execution_count": 29,
   "metadata": {},
   "outputs": [],
   "source": [
    "n_days = 1\n",
    "length = 1\n",
    "df  = pd.read_csv('data_2.csv').set_index('date').dropna()\n",
    "n = 1515\n",
    "s = 2610\n",
    "df_test = df.iloc[s-length:s+90]\n",
    "df_ = df.iloc[n:s]\n",
    "df_true = df_test.copy()"
   ]
  },
  {
   "cell_type": "code",
   "execution_count": 30,
   "metadata": {},
   "outputs": [
    {
     "name": "stderr",
     "output_type": "stream",
     "text": [
      "/Users/antoine/.pyenv/versions/3.7.7/envs/lewagon/lib/python3.7/site-packages/ipykernel_launcher.py:3: SettingWithCopyWarning: \n",
      "A value is trying to be set on a copy of a slice from a DataFrame.\n",
      "Try using .loc[row_indexer,col_indexer] = value instead\n",
      "\n",
      "See the caveats in the documentation: https://pandas.pydata.org/pandas-docs/stable/user_guide/indexing.html#returning-a-view-versus-a-copy\n",
      "  This is separate from the ipykernel package so we can avoid doing imports until\n",
      "/Users/antoine/.pyenv/versions/3.7.7/envs/lewagon/lib/python3.7/site-packages/pandas/core/indexing.py:1736: SettingWithCopyWarning: \n",
      "A value is trying to be set on a copy of a slice from a DataFrame.\n",
      "Try using .loc[row_indexer,col_indexer] = value instead\n",
      "\n",
      "See the caveats in the documentation: https://pandas.pydata.org/pandas-docs/stable/user_guide/indexing.html#returning-a-view-versus-a-copy\n",
      "  isetter(loc, value[:, i].tolist())\n",
      "/Users/antoine/.pyenv/versions/3.7.7/envs/lewagon/lib/python3.7/site-packages/ipykernel_launcher.py:4: SettingWithCopyWarning: \n",
      "A value is trying to be set on a copy of a slice from a DataFrame.\n",
      "Try using .loc[row_indexer,col_indexer] = value instead\n",
      "\n",
      "See the caveats in the documentation: https://pandas.pydata.org/pandas-docs/stable/user_guide/indexing.html#returning-a-view-versus-a-copy\n",
      "  after removing the cwd from sys.path.\n",
      "/Users/antoine/.pyenv/versions/3.7.7/envs/lewagon/lib/python3.7/site-packages/pandas/core/indexing.py:1736: SettingWithCopyWarning: \n",
      "A value is trying to be set on a copy of a slice from a DataFrame.\n",
      "Try using .loc[row_indexer,col_indexer] = value instead\n",
      "\n",
      "See the caveats in the documentation: https://pandas.pydata.org/pandas-docs/stable/user_guide/indexing.html#returning-a-view-versus-a-copy\n",
      "  isetter(loc, value[:, i].tolist())\n"
     ]
    }
   ],
   "source": [
    "scaler = MinMaxScaler()\n",
    "scaler.fit(df_)\n",
    "df_[df_.columns] =  scaler.transform(df_)\n",
    "df_test[df_.columns] =  scaler.transform(df_test)"
   ]
  },
  {
   "cell_type": "code",
   "execution_count": 31,
   "metadata": {},
   "outputs": [],
   "source": [
    "X_train, y_train = get_X_y(df_, n_days, length, 'clf')"
   ]
  },
  {
   "cell_type": "code",
   "execution_count": 32,
   "metadata": {},
   "outputs": [],
   "source": [
    "X_train = np.array(X_train)\n",
    "X_train.shape = (X_train.shape[0], X_train.shape[2])"
   ]
  },
  {
   "cell_type": "code",
   "execution_count": 33,
   "metadata": {},
   "outputs": [
    {
     "name": "stderr",
     "output_type": "stream",
     "text": [
      "/Users/antoine/.pyenv/versions/3.7.7/envs/lewagon/lib/python3.7/site-packages/sklearn/utils/validation.py:72: DataConversionWarning: A column-vector y was passed when a 1d array was expected. Please change the shape of y to (n_samples, ), for example using ravel().\n",
      "  return f(**kwargs)\n"
     ]
    }
   ],
   "source": [
    "clf = LogisticRegression().fit(X_train, y_train)"
   ]
  },
  {
   "cell_type": "code",
   "execution_count": 34,
   "metadata": {},
   "outputs": [],
   "source": [
    "prediction = clf.predict(df_test.drop(columns = 'up')[:-1])"
   ]
  },
  {
   "cell_type": "code",
   "execution_count": 21,
   "metadata": {},
   "outputs": [],
   "source": [
    "accuracy = accuracy_score(df_test['up'][length:].values, prediction)\n",
    "tn, fp, fn, tp = confusion_matrix(df_test['up'][length:].values, prediction).ravel()"
   ]
  },
  {
   "cell_type": "code",
   "execution_count": 22,
   "metadata": {},
   "outputs": [
    {
     "data": {
      "text/plain": [
       "0.5666666666666667"
      ]
     },
     "execution_count": 22,
     "metadata": {},
     "output_type": "execute_result"
    }
   ],
   "source": [
    "accuracy"
   ]
  },
  {
   "cell_type": "code",
   "execution_count": 23,
   "metadata": {},
   "outputs": [
    {
     "data": {
      "text/plain": [
       "0.5625"
      ]
     },
     "execution_count": 23,
     "metadata": {},
     "output_type": "execute_result"
    }
   ],
   "source": [
    "tp/(tp+fn)"
   ]
  },
  {
   "cell_type": "code",
   "execution_count": 24,
   "metadata": {},
   "outputs": [
    {
     "data": {
      "text/plain": [
       "0.5714285714285714"
      ]
     },
     "execution_count": 24,
     "metadata": {},
     "output_type": "execute_result"
    }
   ],
   "source": [
    "tn / (tn+fp)"
   ]
  },
  {
   "cell_type": "code",
   "execution_count": 35,
   "metadata": {},
   "outputs": [
    {
     "data": {
      "text/plain": [
       "array([0., 1., 1., 0., 0., 1., 1., 1., 1., 1., 1., 1., 1., 1., 1., 1., 1.,\n",
       "       1., 1., 1., 1., 1., 1., 1., 1., 1., 1., 1., 1., 1., 1., 1., 1., 1.,\n",
       "       1., 1., 1., 1., 1., 1., 1., 1., 1., 1., 1., 1., 1., 1., 0., 0., 0.,\n",
       "       0., 0., 0., 0., 0., 0., 0., 0., 0., 0., 0., 0., 0., 0., 0., 0., 0.,\n",
       "       0., 0., 0., 0., 0., 0., 0., 0., 0., 0., 0., 0., 0., 0., 0., 0., 0.,\n",
       "       0., 0., 0., 0., 0.])"
      ]
     },
     "execution_count": 35,
     "metadata": {},
     "output_type": "execute_result"
    }
   ],
   "source": [
    "prediction"
   ]
  },
  {
   "cell_type": "code",
   "execution_count": 45,
   "metadata": {},
   "outputs": [],
   "source": [
    "n_days = 1\n",
    "length = 10\n",
    "df  = pd.read_csv('data_2.csv').set_index('date').dropna()\n",
    "#ipdb.set_trace()\n",
    "n = 1880\n",
    "s = 2520\n",
    "df['close'] = df['close'].map(lambda x : np.exp(x))\n",
    "score_trim = {}\n",
    "for x in range(12) :\n",
    "    s += 90\n",
    "    n += 90\n",
    "    score = []\n",
    "    df_test = df.iloc[s:s+90]\n",
    "\n",
    "    profit = 1\n",
    "    mini = 1\n",
    "    maxi = 1\n",
    "    for i in range(1, len(df_test)) : \n",
    "        result = ((df_test['close'].iloc[i] - df_test['close'].iloc[i-1]) / df_test['close'].iloc[i-1]) + 1\n",
    "        profit = profit * result\n",
    "        if result < mini :\n",
    "            mini = result\n",
    "        if maxi < result :\n",
    "             maxi = result\n",
    "                \n",
    "    score.append(accuracy)\n",
    "    score.append(profit)\n",
    "    score.append(mini)\n",
    "    score.append(maxi)\n",
    "    score_trim[x] = score"
   ]
  },
  {
   "cell_type": "code",
   "execution_count": 46,
   "metadata": {},
   "outputs": [
    {
     "data": {
      "text/plain": [
       "{0: [0.5666666666666667,\n",
       "  1.0811403744503039,\n",
       "  0.8428994816087272,\n",
       "  1.2316190464924501],\n",
       " 1: [0.5666666666666667,\n",
       "  1.2368427783198614,\n",
       "  0.8976005373352774,\n",
       "  1.1422964360284107],\n",
       " 2: [0.5666666666666667,\n",
       "  0.7636991557977252,\n",
       "  0.8967653668208868,\n",
       "  1.0921731396767407],\n",
       " 3: [0.5666666666666667,\n",
       "  0.9151202954533555,\n",
       "  0.9261302404034122,\n",
       "  1.0497484108008053],\n",
       " 4: [0.5666666666666667,\n",
       "  0.5471430176260813,\n",
       "  0.8671511307639452,\n",
       "  1.1172803093662986],\n",
       " 5: [0.5666666666666667,\n",
       "  1.560999435928594,\n",
       "  0.9201515999964976,\n",
       "  1.1754155175665129],\n",
       " 6: [0.5666666666666667,\n",
       "  1.7484607719202154,\n",
       "  0.8575783994845456,\n",
       "  1.1305789178140042],\n",
       " 7: [0.5666666666666667,\n",
       "  0.9067176888350073,\n",
       "  0.8860396298987725,\n",
       "  1.1545703884307477],\n",
       " 8: [0.5666666666666667,\n",
       "  0.9674974095780186,\n",
       "  0.951386072544974,\n",
       "  1.0996684803621701],\n",
       " 9: [0.5666666666666667,\n",
       "  0.8206880106893513,\n",
       "  0.614238250602748,\n",
       "  1.1823974075935249],\n",
       " 10: [0.5666666666666667,\n",
       "  1.2414969434854326,\n",
       "  0.9135810102599939,\n",
       "  1.1272836103363235],\n",
       " 11: [0.5666666666666667,\n",
       "  1.305064788244068,\n",
       "  0.8966930841710028,\n",
       "  1.112765044031118]}"
      ]
     },
     "execution_count": 46,
     "metadata": {},
     "output_type": "execute_result"
    }
   ],
   "source": [
    "score_trim"
   ]
  },
  {
   "cell_type": "code",
   "execution_count": null,
   "metadata": {},
   "outputs": [],
   "source": []
  }
 ],
 "metadata": {
  "kernelspec": {
   "display_name": "Python 3",
   "language": "python",
   "name": "python3"
  },
  "language_info": {
   "codemirror_mode": {
    "name": "ipython",
    "version": 3
   },
   "file_extension": ".py",
   "mimetype": "text/x-python",
   "name": "python",
   "nbconvert_exporter": "python",
   "pygments_lexer": "ipython3",
   "version": "3.7.7"
  }
 },
 "nbformat": 4,
 "nbformat_minor": 4
}
